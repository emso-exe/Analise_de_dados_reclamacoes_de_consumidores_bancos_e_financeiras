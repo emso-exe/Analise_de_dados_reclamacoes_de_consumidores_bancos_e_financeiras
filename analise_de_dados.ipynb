{
 "cells": [
  {
   "cell_type": "markdown",
   "metadata": {},
   "source": [
    "# Análise de dados: Reclamações de consumidores com empresa de telecomunicações\n",
    "\n",
    "Neste projeto serão analisados os dados de reclamações de consumidores com uma empresa de telecomunicações no 1º semestre de 2021 são dados (.csv) reais extraídos do site [consumidor.gov.br](https://www.consumidor.gov.br) disponibilizados pelo [Portal de dados do Ministério da Justiça](http://dados.mj.gov.br/).\n",
    "\n",
    "## Demanda do negócio\n",
    "\n",
    "- Identificar público com maior insatisfação\n",
    "- Reduzir o número de reclamações\n",
    "- Reduzir o tempo para solução do problema\n",
    "- Obter a melhor nota em atendimento\n",
    "- Identificar o principal motivo de reclamação\n",
    "- Identificar o canal de atendimento com maior índice de insatisfação\n",
    "\n",
    "## Indagações a serem respondidas pela análise exploratória dos dados\n",
    "\n",
    "1. Qual o número de reclamações por estado?\n",
    "2. Qual o número de reclamações por sexo?\n",
    "3. Qual o número de reclamações por faixa etária?\n",
    "4. Qual a quantidade/percentual das reclamações por sexo/faixa etária?\n",
    "\n",
    "5. Qual a quantidade/percentual das reclamações por meio utilizado para contratação/aquisição?\n",
    "6. Qual a quantidade/percentual das reclamações por assunto?\n",
    "7. Qual a quantidade/percentual das reclamações por assunto/problema?\n",
    "8. Qual a quantidade/percentual das reclamações por assunto/contratação?\n",
    "\n",
    "9. Qual a quantidade/percentual de dias entre abertura de reclamações válidas e resposta?\n",
    "10. Qual a quantidade/percentual de dias entre abertura de reclamações contestadas e resposta?\n",
    "11. Qual o número/percentual de avaliação do consumidor?\n",
    "12. Qual a relação entre dias para resposta e avaliação do consumidor?\n",
    "\n",
    "13. Qual a quantidade/percentual das reclamações resolvidas, não resolvidas, não avaliadas e canceladas/encerradas?\n",
    "14. Qual o número/percentual de recusa de reclamações avaliadas como procedentes e improcedentes?"
   ]
  },
  {
   "cell_type": "markdown",
   "metadata": {},
   "source": [
    "## Importação de pacotes"
   ]
  },
  {
   "cell_type": "code",
   "execution_count": 164,
   "metadata": {},
   "outputs": [],
   "source": [
    "import pandas as pd\n",
    "import matplotlib.pyplot as plt\n",
    "import matplotlib.patches as mp\n",
    "import seaborn as sns\n",
    "import glob\n"
   ]
  },
  {
   "cell_type": "markdown",
   "metadata": {},
   "source": [
    "## Carregamento dos dados"
   ]
  },
  {
   "cell_type": "code",
   "execution_count": 165,
   "metadata": {},
   "outputs": [],
   "source": [
    "# Atribuindo ao dataframe os arquivos csv no diretório dados\n",
    "\n",
    "lista_csv = glob.glob('dados/*.csv')\n",
    "\n",
    "converte_csv = lambda k: pd.read_csv(k, sep=';')\n",
    "\n",
    "df = pd.concat(map(converte_csv, lista_csv), ignore_index=True)"
   ]
  },
  {
   "cell_type": "markdown",
   "metadata": {},
   "source": [
    "## Detalhes do dataframe"
   ]
  },
  {
   "cell_type": "code",
   "execution_count": 166,
   "metadata": {},
   "outputs": [
    {
     "data": {
      "text/html": [
       "<div>\n",
       "<style scoped>\n",
       "    .dataframe tbody tr th:only-of-type {\n",
       "        vertical-align: middle;\n",
       "    }\n",
       "\n",
       "    .dataframe tbody tr th {\n",
       "        vertical-align: top;\n",
       "    }\n",
       "\n",
       "    .dataframe thead th {\n",
       "        text-align: right;\n",
       "    }\n",
       "</style>\n",
       "<table border=\"1\" class=\"dataframe\">\n",
       "  <thead>\n",
       "    <tr style=\"text-align: right;\">\n",
       "      <th></th>\n",
       "      <th>Gestor</th>\n",
       "      <th>Canal de Origem</th>\n",
       "      <th>Região</th>\n",
       "      <th>UF</th>\n",
       "      <th>Cidade</th>\n",
       "      <th>Sexo</th>\n",
       "      <th>Faixa Etária</th>\n",
       "      <th>Ano Abertura</th>\n",
       "      <th>Mês Abertura</th>\n",
       "      <th>Data Abertura</th>\n",
       "      <th>...</th>\n",
       "      <th>Grupo Problema</th>\n",
       "      <th>Problema</th>\n",
       "      <th>Como Comprou Contratou</th>\n",
       "      <th>Procurou Empresa</th>\n",
       "      <th>Respondida</th>\n",
       "      <th>Situação</th>\n",
       "      <th>Avaliação Reclamação</th>\n",
       "      <th>Nota do Consumidor</th>\n",
       "      <th>Análise da Recusa</th>\n",
       "      <th>Grupo Econômico</th>\n",
       "    </tr>\n",
       "  </thead>\n",
       "  <tbody>\n",
       "    <tr>\n",
       "      <th>762479</th>\n",
       "      <td>Fundação de Proteção e Defesa do Consumidor</td>\n",
       "      <td>Plataforma Web</td>\n",
       "      <td>SE</td>\n",
       "      <td>SP</td>\n",
       "      <td>Mococa</td>\n",
       "      <td>M</td>\n",
       "      <td>entre 21 a 30 anos</td>\n",
       "      <td>2021.0</td>\n",
       "      <td>6.0</td>\n",
       "      <td>16/06/2021</td>\n",
       "      <td>...</td>\n",
       "      <td>Cobrança / Contestação</td>\n",
       "      <td>Dificuldade / atraso na devolução de valores p...</td>\n",
       "      <td>Internet</td>\n",
       "      <td>S</td>\n",
       "      <td>S</td>\n",
       "      <td>Finalizada avaliada</td>\n",
       "      <td>Resolvida</td>\n",
       "      <td>5.0</td>\n",
       "      <td>NaN</td>\n",
       "      <td>NaN</td>\n",
       "    </tr>\n",
       "    <tr>\n",
       "      <th>765388</th>\n",
       "      <td>Departamento Estadual de Proteção e Defesa do ...</td>\n",
       "      <td>Plataforma Web</td>\n",
       "      <td>S</td>\n",
       "      <td>PR</td>\n",
       "      <td>Curitiba</td>\n",
       "      <td>M</td>\n",
       "      <td>entre 41 a 50 anos</td>\n",
       "      <td>2021.0</td>\n",
       "      <td>6.0</td>\n",
       "      <td>18/06/2021</td>\n",
       "      <td>...</td>\n",
       "      <td>Cobrança / Contestação</td>\n",
       "      <td>Cobrança em duplicidade / Cobrança referente a...</td>\n",
       "      <td>Internet</td>\n",
       "      <td>S</td>\n",
       "      <td>S</td>\n",
       "      <td>Finalizada avaliada</td>\n",
       "      <td>Não Resolvida</td>\n",
       "      <td>1.0</td>\n",
       "      <td>NaN</td>\n",
       "      <td>Claro</td>\n",
       "    </tr>\n",
       "    <tr>\n",
       "      <th>78598</th>\n",
       "      <td>Programa Estadual de Proteção e Defesa do Cons...</td>\n",
       "      <td>Plataforma Web</td>\n",
       "      <td>SE</td>\n",
       "      <td>MG</td>\n",
       "      <td>Heliodora</td>\n",
       "      <td>M</td>\n",
       "      <td>entre 21 a 30 anos</td>\n",
       "      <td>2020.0</td>\n",
       "      <td>12.0</td>\n",
       "      <td>16/12/2020</td>\n",
       "      <td>...</td>\n",
       "      <td>Cobrança / Contestação</td>\n",
       "      <td>Dificuldade / atraso na devolução de valores p...</td>\n",
       "      <td>Internet</td>\n",
       "      <td>S</td>\n",
       "      <td>S</td>\n",
       "      <td>Finalizada não avaliada</td>\n",
       "      <td>Não Avaliada</td>\n",
       "      <td>NaN</td>\n",
       "      <td>NaN</td>\n",
       "      <td>NaN</td>\n",
       "    </tr>\n",
       "    <tr>\n",
       "      <th>86585</th>\n",
       "      <td>Secretaria de Justiça e Direitos Humanos - Sec...</td>\n",
       "      <td>Plataforma Web</td>\n",
       "      <td>NE</td>\n",
       "      <td>PE</td>\n",
       "      <td>Olinda</td>\n",
       "      <td>F</td>\n",
       "      <td>entre 41 a 50 anos</td>\n",
       "      <td>2020.0</td>\n",
       "      <td>12.0</td>\n",
       "      <td>18/12/2020</td>\n",
       "      <td>...</td>\n",
       "      <td>Cobrança / Contestação</td>\n",
       "      <td>Cálculo de juros, saldo devedor (contestação, ...</td>\n",
       "      <td>Loja física</td>\n",
       "      <td>S</td>\n",
       "      <td>S</td>\n",
       "      <td>Finalizada avaliada</td>\n",
       "      <td>Não Resolvida</td>\n",
       "      <td>3.0</td>\n",
       "      <td>NaN</td>\n",
       "      <td>NaN</td>\n",
       "    </tr>\n",
       "    <tr>\n",
       "      <th>533282</th>\n",
       "      <td>Departamento Estadual de Proteção e Defesa do ...</td>\n",
       "      <td>Plataforma Web</td>\n",
       "      <td>S</td>\n",
       "      <td>PR</td>\n",
       "      <td>Curitiba</td>\n",
       "      <td>F</td>\n",
       "      <td>até 20 anos</td>\n",
       "      <td>2021.0</td>\n",
       "      <td>4.0</td>\n",
       "      <td>08/04/2021</td>\n",
       "      <td>...</td>\n",
       "      <td>Cobrança / Contestação</td>\n",
       "      <td>Cobrança em duplicidade / Cobrança referente a...</td>\n",
       "      <td>Internet</td>\n",
       "      <td>S</td>\n",
       "      <td>S</td>\n",
       "      <td>Finalizada não avaliada</td>\n",
       "      <td>Não Avaliada</td>\n",
       "      <td>NaN</td>\n",
       "      <td>NaN</td>\n",
       "      <td>NaN</td>\n",
       "    </tr>\n",
       "    <tr>\n",
       "      <th>215212</th>\n",
       "      <td>Superintendência de Proteção e Defesa do Consu...</td>\n",
       "      <td>Plataforma Web</td>\n",
       "      <td>CO</td>\n",
       "      <td>GO</td>\n",
       "      <td>Anápolis</td>\n",
       "      <td>M</td>\n",
       "      <td>entre 31 a 40 anos</td>\n",
       "      <td>2021.0</td>\n",
       "      <td>2.0</td>\n",
       "      <td>04/02/2021</td>\n",
       "      <td>...</td>\n",
       "      <td>Informação</td>\n",
       "      <td>Dados pessoais ou financeiros consultados, col...</td>\n",
       "      <td>Não comprei / contratei</td>\n",
       "      <td>S</td>\n",
       "      <td>S</td>\n",
       "      <td>Finalizada não avaliada</td>\n",
       "      <td>Não Avaliada</td>\n",
       "      <td>NaN</td>\n",
       "      <td>NaN</td>\n",
       "      <td>NaN</td>\n",
       "    </tr>\n",
       "    <tr>\n",
       "      <th>654888</th>\n",
       "      <td>Secretaria Nacional do Consumidor</td>\n",
       "      <td>Plataforma Web</td>\n",
       "      <td>CO</td>\n",
       "      <td>DF</td>\n",
       "      <td>Brasília</td>\n",
       "      <td>M</td>\n",
       "      <td>até 20 anos</td>\n",
       "      <td>2021.0</td>\n",
       "      <td>5.0</td>\n",
       "      <td>06/05/2021</td>\n",
       "      <td>...</td>\n",
       "      <td>Atendimento / SAC</td>\n",
       "      <td>Má qualidade no atendimento presencial ou outr...</td>\n",
       "      <td>Não comprei / contratei</td>\n",
       "      <td>N</td>\n",
       "      <td>S</td>\n",
       "      <td>Finalizada não avaliada</td>\n",
       "      <td>Não Avaliada</td>\n",
       "      <td>NaN</td>\n",
       "      <td>NaN</td>\n",
       "      <td>NaN</td>\n",
       "    </tr>\n",
       "    <tr>\n",
       "      <th>40586</th>\n",
       "      <td>Superintendência de Proteção e Defesa do Consu...</td>\n",
       "      <td>Plataforma Web</td>\n",
       "      <td>NE</td>\n",
       "      <td>BA</td>\n",
       "      <td>Eunápolis</td>\n",
       "      <td>M</td>\n",
       "      <td>entre 61 a 70 anos</td>\n",
       "      <td>2021.0</td>\n",
       "      <td>1.0</td>\n",
       "      <td>22/01/2021</td>\n",
       "      <td>...</td>\n",
       "      <td>Cobrança / Contestação</td>\n",
       "      <td>Cobrança por serviço/produto não contratado / ...</td>\n",
       "      <td>Telefone</td>\n",
       "      <td>S</td>\n",
       "      <td>S</td>\n",
       "      <td>Finalizada avaliada</td>\n",
       "      <td>Resolvida</td>\n",
       "      <td>3.0</td>\n",
       "      <td>NaN</td>\n",
       "      <td>NaN</td>\n",
       "    </tr>\n",
       "    <tr>\n",
       "      <th>343367</th>\n",
       "      <td>Secretaria Nacional do Consumidor</td>\n",
       "      <td>Plataforma Web</td>\n",
       "      <td>S</td>\n",
       "      <td>RS</td>\n",
       "      <td>Passo Fundo</td>\n",
       "      <td>M</td>\n",
       "      <td>entre 31 a 40 anos</td>\n",
       "      <td>2021.0</td>\n",
       "      <td>2.0</td>\n",
       "      <td>19/02/2021</td>\n",
       "      <td>...</td>\n",
       "      <td>Cobrança / Contestação</td>\n",
       "      <td>Cobrança de compra/saque não reconhecido</td>\n",
       "      <td>Não comprei / contratei</td>\n",
       "      <td>S</td>\n",
       "      <td>S</td>\n",
       "      <td>Finalizada avaliada</td>\n",
       "      <td>Resolvida</td>\n",
       "      <td>3.0</td>\n",
       "      <td>NaN</td>\n",
       "      <td>NaN</td>\n",
       "    </tr>\n",
       "    <tr>\n",
       "      <th>844146</th>\n",
       "      <td>Secretaria Nacional do Consumidor</td>\n",
       "      <td>Plataforma Web</td>\n",
       "      <td>NE</td>\n",
       "      <td>PI</td>\n",
       "      <td>Teresina</td>\n",
       "      <td>M</td>\n",
       "      <td>entre 41 a 50 anos</td>\n",
       "      <td>2021.0</td>\n",
       "      <td>6.0</td>\n",
       "      <td>28/06/2021</td>\n",
       "      <td>...</td>\n",
       "      <td>Atendimento / SAC</td>\n",
       "      <td>Má qualidade no atendimento presencial ou outr...</td>\n",
       "      <td>Loja física</td>\n",
       "      <td>S</td>\n",
       "      <td>S</td>\n",
       "      <td>Finalizada não avaliada</td>\n",
       "      <td>Não Avaliada</td>\n",
       "      <td>NaN</td>\n",
       "      <td>NaN</td>\n",
       "      <td>NaN</td>\n",
       "    </tr>\n",
       "  </tbody>\n",
       "</table>\n",
       "<p>10 rows × 31 columns</p>\n",
       "</div>"
      ],
      "text/plain": [
       "                                                   Gestor Canal de Origem  \\\n",
       "762479        Fundação de Proteção e Defesa do Consumidor  Plataforma Web   \n",
       "765388  Departamento Estadual de Proteção e Defesa do ...  Plataforma Web   \n",
       "78598   Programa Estadual de Proteção e Defesa do Cons...  Plataforma Web   \n",
       "86585   Secretaria de Justiça e Direitos Humanos - Sec...  Plataforma Web   \n",
       "533282  Departamento Estadual de Proteção e Defesa do ...  Plataforma Web   \n",
       "215212  Superintendência de Proteção e Defesa do Consu...  Plataforma Web   \n",
       "654888                  Secretaria Nacional do Consumidor  Plataforma Web   \n",
       "40586   Superintendência de Proteção e Defesa do Consu...  Plataforma Web   \n",
       "343367                  Secretaria Nacional do Consumidor  Plataforma Web   \n",
       "844146                  Secretaria Nacional do Consumidor  Plataforma Web   \n",
       "\n",
       "       Região  UF       Cidade Sexo        Faixa Etária  Ano Abertura  \\\n",
       "762479     SE  SP       Mococa    M  entre 21 a 30 anos        2021.0   \n",
       "765388     S   PR     Curitiba    M  entre 41 a 50 anos        2021.0   \n",
       "78598      SE  MG    Heliodora    M  entre 21 a 30 anos        2020.0   \n",
       "86585      NE  PE       Olinda    F  entre 41 a 50 anos        2020.0   \n",
       "533282     S   PR     Curitiba    F         até 20 anos        2021.0   \n",
       "215212     CO  GO     Anápolis    M  entre 31 a 40 anos        2021.0   \n",
       "654888     CO  DF     Brasília    M         até 20 anos        2021.0   \n",
       "40586      NE  BA    Eunápolis    M  entre 61 a 70 anos        2021.0   \n",
       "343367     S   RS  Passo Fundo    M  entre 31 a 40 anos        2021.0   \n",
       "844146     NE  PI     Teresina    M  entre 41 a 50 anos        2021.0   \n",
       "\n",
       "        Mês Abertura Data Abertura  ...          Grupo Problema  \\\n",
       "762479           6.0    16/06/2021  ...  Cobrança / Contestação   \n",
       "765388           6.0    18/06/2021  ...  Cobrança / Contestação   \n",
       "78598           12.0    16/12/2020  ...  Cobrança / Contestação   \n",
       "86585           12.0    18/12/2020  ...  Cobrança / Contestação   \n",
       "533282           4.0    08/04/2021  ...  Cobrança / Contestação   \n",
       "215212           2.0    04/02/2021  ...              Informação   \n",
       "654888           5.0    06/05/2021  ...       Atendimento / SAC   \n",
       "40586            1.0    22/01/2021  ...  Cobrança / Contestação   \n",
       "343367           2.0    19/02/2021  ...  Cobrança / Contestação   \n",
       "844146           6.0    28/06/2021  ...       Atendimento / SAC   \n",
       "\n",
       "                                                 Problema  \\\n",
       "762479  Dificuldade / atraso na devolução de valores p...   \n",
       "765388  Cobrança em duplicidade / Cobrança referente a...   \n",
       "78598   Dificuldade / atraso na devolução de valores p...   \n",
       "86585   Cálculo de juros, saldo devedor (contestação, ...   \n",
       "533282  Cobrança em duplicidade / Cobrança referente a...   \n",
       "215212  Dados pessoais ou financeiros consultados, col...   \n",
       "654888  Má qualidade no atendimento presencial ou outr...   \n",
       "40586   Cobrança por serviço/produto não contratado / ...   \n",
       "343367           Cobrança de compra/saque não reconhecido   \n",
       "844146  Má qualidade no atendimento presencial ou outr...   \n",
       "\n",
       "         Como Comprou Contratou Procurou Empresa Respondida  \\\n",
       "762479                 Internet                S          S   \n",
       "765388                 Internet                S          S   \n",
       "78598                  Internet                S          S   \n",
       "86585               Loja física                S          S   \n",
       "533282                 Internet                S          S   \n",
       "215212  Não comprei / contratei                S          S   \n",
       "654888  Não comprei / contratei                N          S   \n",
       "40586                  Telefone                S          S   \n",
       "343367  Não comprei / contratei                S          S   \n",
       "844146              Loja física                S          S   \n",
       "\n",
       "                       Situação  Avaliação Reclamação Nota do Consumidor  \\\n",
       "762479      Finalizada avaliada             Resolvida                5.0   \n",
       "765388      Finalizada avaliada         Não Resolvida                1.0   \n",
       "78598   Finalizada não avaliada          Não Avaliada                NaN   \n",
       "86585       Finalizada avaliada         Não Resolvida                3.0   \n",
       "533282  Finalizada não avaliada          Não Avaliada                NaN   \n",
       "215212  Finalizada não avaliada          Não Avaliada                NaN   \n",
       "654888  Finalizada não avaliada          Não Avaliada                NaN   \n",
       "40586       Finalizada avaliada             Resolvida                3.0   \n",
       "343367      Finalizada avaliada             Resolvida                3.0   \n",
       "844146  Finalizada não avaliada          Não Avaliada                NaN   \n",
       "\n",
       "       Análise da Recusa Grupo Econômico  \n",
       "762479               NaN             NaN  \n",
       "765388               NaN           Claro  \n",
       "78598                NaN             NaN  \n",
       "86585                NaN             NaN  \n",
       "533282               NaN             NaN  \n",
       "215212               NaN             NaN  \n",
       "654888               NaN             NaN  \n",
       "40586                NaN             NaN  \n",
       "343367               NaN             NaN  \n",
       "844146               NaN             NaN  \n",
       "\n",
       "[10 rows x 31 columns]"
      ]
     },
     "execution_count": 166,
     "metadata": {},
     "output_type": "execute_result"
    }
   ],
   "source": [
    "df.sample(10)"
   ]
  },
  {
   "cell_type": "code",
   "execution_count": 167,
   "metadata": {},
   "outputs": [
    {
     "data": {
      "text/plain": [
       "Index(['Gestor', 'Canal de Origem', 'Região', 'UF', 'Cidade', 'Sexo',\n",
       "       'Faixa Etária', 'Ano Abertura', 'Mês Abertura', 'Data Abertura',\n",
       "       'Data Resposta', 'Data Análise', 'Data Recusa', 'Data Finalização',\n",
       "       'Prazo Resposta', 'Prazo Analise Gestor', 'Tempo Resposta',\n",
       "       'Nome Fantasia', 'Segmento de Mercado', 'Área', 'Assunto',\n",
       "       'Grupo Problema', 'Problema', 'Como Comprou Contratou',\n",
       "       'Procurou Empresa', 'Respondida', 'Situação', 'Avaliação Reclamação',\n",
       "       'Nota do Consumidor', 'Análise da Recusa', 'Grupo Econômico'],\n",
       "      dtype='object')"
      ]
     },
     "execution_count": 167,
     "metadata": {},
     "output_type": "execute_result"
    }
   ],
   "source": [
    "df.columns"
   ]
  },
  {
   "cell_type": "code",
   "execution_count": 168,
   "metadata": {},
   "outputs": [
    {
     "data": {
      "text/plain": [
       "(897662, 31)"
      ]
     },
     "execution_count": 168,
     "metadata": {},
     "output_type": "execute_result"
    }
   ],
   "source": [
    "df.shape"
   ]
  },
  {
   "cell_type": "markdown",
   "metadata": {},
   "source": [
    "## Seleção das linhas e colunas relevantes"
   ]
  },
  {
   "cell_type": "code",
   "execution_count": 169,
   "metadata": {},
   "outputs": [
    {
     "data": {
      "text/plain": [
       "(58278, 31)"
      ]
     },
     "execution_count": 169,
     "metadata": {},
     "output_type": "execute_result"
    }
   ],
   "source": [
    "# Selecionando a empresa alvo da análise\n",
    "\n",
    "df = df.loc[df['Nome Fantasia'] == 'Vivo - Telefônica']\n",
    "df.shape"
   ]
  },
  {
   "cell_type": "code",
   "execution_count": 170,
   "metadata": {},
   "outputs": [
    {
     "data": {
      "text/plain": [
       "(58278, 16)"
      ]
     },
     "execution_count": 170,
     "metadata": {},
     "output_type": "execute_result"
    }
   ],
   "source": [
    "# Removendo as colunas que não serão utilizadas na análise\n",
    "\n",
    "df = df.drop(columns=[\n",
    "    'Gestor','Região','Cidade','Ano Abertura','Data Análise','Data Recusa',\n",
    "    'Data Finalização','Prazo Resposta','Tempo Resposta','Grupo Econômico',\n",
    "    'Prazo Analise Gestor','Nome Fantasia','Segmento de Mercado',\n",
    "    'Procurou Empresa','Respondida'])\n",
    "df.shape"
   ]
  },
  {
   "cell_type": "code",
   "execution_count": 171,
   "metadata": {},
   "outputs": [
    {
     "name": "stdout",
     "output_type": "stream",
     "text": [
      "<class 'pandas.core.frame.DataFrame'>\n",
      "Int64Index: 58278 entries, 30 to 897598\n",
      "Data columns (total 16 columns):\n",
      " #   Column                  Non-Null Count  Dtype  \n",
      "---  ------                  --------------  -----  \n",
      " 0   Canal de Origem         58278 non-null  object \n",
      " 1   UF                      58278 non-null  object \n",
      " 2   Sexo                    58274 non-null  object \n",
      " 3   Faixa Etária            58278 non-null  object \n",
      " 4   Mês Abertura            58278 non-null  float64\n",
      " 5   Data Abertura           58278 non-null  object \n",
      " 6   Data Resposta           51396 non-null  object \n",
      " 7   Área                    58278 non-null  object \n",
      " 8   Assunto                 58278 non-null  object \n",
      " 9   Grupo Problema          58278 non-null  object \n",
      " 10  Problema                58278 non-null  object \n",
      " 11  Como Comprou Contratou  58278 non-null  object \n",
      " 12  Situação                58278 non-null  object \n",
      " 13  Avaliação Reclamação    51387 non-null  object \n",
      " 14  Nota do Consumidor      31028 non-null  float64\n",
      " 15  Análise da Recusa       7848 non-null   object \n",
      "dtypes: float64(2), object(14)\n",
      "memory usage: 7.6+ MB\n"
     ]
    }
   ],
   "source": [
    "df.info()"
   ]
  },
  {
   "cell_type": "code",
   "execution_count": 172,
   "metadata": {},
   "outputs": [
    {
     "name": "stdout",
     "output_type": "stream",
     "text": [
      "[ 1. 11. 12.  2.  3.  4.  5.  6.  7.]\n",
      "[1. 2. 3. 4. 5. 6.]\n"
     ]
    }
   ],
   "source": [
    "# Será considerado apenas as reclamações abertas entre janeiro e junho\n",
    "# meses anteriores e posteriores ao período serão excluídos.\n",
    "\n",
    "print(df['Mês Abertura'].unique())\n",
    "\n",
    "df_remover = df.loc[\n",
    "    (df['Mês Abertura'] == 11) | \n",
    "    (df['Mês Abertura'] == 12) | \n",
    "    (df['Mês Abertura'] == 7)\n",
    "    ]\n",
    "\n",
    "df = df.drop(df_remover.index)\n",
    "\n",
    "print(df['Mês Abertura'].unique())"
   ]
  },
  {
   "cell_type": "markdown",
   "metadata": {},
   "source": [
    "## Tratando valores nulos"
   ]
  },
  {
   "cell_type": "code",
   "execution_count": 173,
   "metadata": {},
   "outputs": [
    {
     "data": {
      "text/plain": [
       "Canal de Origem               0\n",
       "UF                            0\n",
       "Sexo                          4\n",
       "Faixa Etária                  0\n",
       "Mês Abertura                  0\n",
       "Data Abertura                 0\n",
       "Data Resposta              6015\n",
       "Área                          0\n",
       "Assunto                       0\n",
       "Grupo Problema                0\n",
       "Problema                      0\n",
       "Como Comprou Contratou        0\n",
       "Situação                      0\n",
       "Avaliação Reclamação       6023\n",
       "Nota do Consumidor        23484\n",
       "Análise da Recusa         43220\n",
       "dtype: int64"
      ]
     },
     "execution_count": 173,
     "metadata": {},
     "output_type": "execute_result"
    }
   ],
   "source": [
    "df.isnull().sum()"
   ]
  },
  {
   "cell_type": "code",
   "execution_count": 174,
   "metadata": {},
   "outputs": [
    {
     "name": "stdout",
     "output_type": "stream",
     "text": [
      "['M' 'F' 'O' nan]\n",
      "['M' 'F' 'O']\n"
     ]
    },
    {
     "data": {
      "text/plain": [
       "0"
      ]
     },
     "execution_count": 174,
     "metadata": {},
     "output_type": "execute_result"
    }
   ],
   "source": [
    "# Coluna [Sexo]\n",
    "# Quando o valor do campo for nulo será considerado \"O\" outros.\n",
    "\n",
    "print(df['Sexo'].unique())\n",
    "df['Sexo'].fillna('O', inplace=True)\n",
    "print(df['Sexo'].unique())\n",
    "df['Sexo'].isnull().sum()"
   ]
  },
  {
   "cell_type": "code",
   "execution_count": 175,
   "metadata": {},
   "outputs": [
    {
     "name": "stdout",
     "output_type": "stream",
     "text": [
      "836423    29/06/2021\n",
      "477224           NaN\n",
      "158848    26/01/2021\n",
      "251539           NaN\n",
      "326200    22/02/2021\n",
      "690940    27/05/2021\n",
      "514869    29/04/2021\n",
      "195529    05/02/2021\n",
      "500626    20/04/2021\n",
      "825516    29/06/2021\n",
      "Name: Data Resposta, dtype: object\n"
     ]
    },
    {
     "data": {
      "text/plain": [
       "50062"
      ]
     },
     "execution_count": 175,
     "metadata": {},
     "output_type": "execute_result"
    }
   ],
   "source": [
    "# Coluna [Data Resposta]\n",
    "# Quando nulo é referente a reclamações canceladas por serem improcedentes \n",
    "# ou encerradas quando não avaliadas em tempo hábil pelo orgão gestor de reclamações.\n",
    "\n",
    "print(df['Data Resposta'].sample(10))\n",
    "df['Data Resposta'].isnull().count()"
   ]
  },
  {
   "cell_type": "code",
   "execution_count": 176,
   "metadata": {},
   "outputs": [
    {
     "name": "stdout",
     "output_type": "stream",
     "text": [
      "['Resolvida' nan 'Não Avaliada' 'Não Resolvida']\n",
      "['Resolvida' 'Cancelada' 'Não Avaliada' 'Não Resolvida' 'Encerrada']\n"
     ]
    },
    {
     "data": {
      "text/plain": [
       "0"
      ]
     },
     "execution_count": 176,
     "metadata": {},
     "output_type": "execute_result"
    }
   ],
   "source": [
    "# Coluna [Avaliação Reclamação]\n",
    "# Quando nulo as reclamações foram canceladas por serem improcedentes\n",
    "# ou encerradas quando não avaliadas em tempo hábil pelo orgão gestor de reclamações.\n",
    "# Quando nulo será considerado o valor correspondente da coluna 'Situação'.\n",
    "\n",
    "print(df['Avaliação Reclamação'].unique()) \n",
    "df.loc[df['Avaliação Reclamação'].isnull(), 'Avaliação Reclamação'] = df['Situação']\n",
    "print(df['Avaliação Reclamação'].unique()) \n",
    "df['Avaliação Reclamação'].isnull().sum()\n"
   ]
  },
  {
   "cell_type": "code",
   "execution_count": 177,
   "metadata": {},
   "outputs": [
    {
     "name": "stdout",
     "output_type": "stream",
     "text": [
      "[ 5. nan  4.  3.  1.  2.]\n",
      "[5. 0. 4. 3. 1. 2.]\n"
     ]
    },
    {
     "data": {
      "text/plain": [
       "0"
      ]
     },
     "execution_count": 177,
     "metadata": {},
     "output_type": "execute_result"
    }
   ],
   "source": [
    "# Coluna [Nota do Consumidor]\n",
    "# Quando nulo as reclamações foram canceladas por serem improcedentes\n",
    "# ou encerradas quando não avaliadas em tempo hábil pelo orgão gestor de reclamações.\n",
    "# Quando nulo será considerado 0 \"zero\".\n",
    "\n",
    "print(df['Nota do Consumidor'].unique())\n",
    "df['Nota do Consumidor'].fillna(0, inplace=True)\n",
    "print(df['Nota do Consumidor'].unique())\n",
    "df['Nota do Consumidor'].isnull().sum()"
   ]
  },
  {
   "cell_type": "code",
   "execution_count": 178,
   "metadata": {},
   "outputs": [
    {
     "name": "stdout",
     "output_type": "stream",
     "text": [
      "[nan 'Procedente' 'Encerrada' 'Improcedente']\n"
     ]
    },
    {
     "data": {
      "text/plain": [
       "43220"
      ]
     },
     "execution_count": 178,
     "metadata": {},
     "output_type": "execute_result"
    }
   ],
   "source": [
    "# Coluna [Análise da Recusa]\n",
    "# Quando nulo não houve recusa da reclamação pela empresa reclamada.\n",
    "\n",
    "print(df['Análise da Recusa'].unique())\n",
    "df['Análise da Recusa'].isnull().sum()"
   ]
  },
  {
   "cell_type": "markdown",
   "metadata": {},
   "source": [
    "## Tratando os tipos de valores"
   ]
  },
  {
   "cell_type": "code",
   "execution_count": 179,
   "metadata": {},
   "outputs": [
    {
     "data": {
      "text/plain": [
       "Canal de Origem            object\n",
       "UF                         object\n",
       "Sexo                       object\n",
       "Faixa Etária               object\n",
       "Mês Abertura              float64\n",
       "Data Abertura              object\n",
       "Data Resposta              object\n",
       "Área                       object\n",
       "Assunto                    object\n",
       "Grupo Problema             object\n",
       "Problema                   object\n",
       "Como Comprou Contratou     object\n",
       "Situação                   object\n",
       "Avaliação Reclamação       object\n",
       "Nota do Consumidor        float64\n",
       "Análise da Recusa          object\n",
       "dtype: object"
      ]
     },
     "execution_count": 179,
     "metadata": {},
     "output_type": "execute_result"
    }
   ],
   "source": [
    "df.dtypes"
   ]
  },
  {
   "cell_type": "code",
   "execution_count": 180,
   "metadata": {},
   "outputs": [
    {
     "name": "stdout",
     "output_type": "stream",
     "text": [
      "<class 'pandas.core.frame.DataFrame'>\n",
      "Int64Index: 50062 entries, 30 to 854051\n",
      "Data columns (total 16 columns):\n",
      " #   Column                  Non-Null Count  Dtype         \n",
      "---  ------                  --------------  -----         \n",
      " 0   Canal de Origem         50062 non-null  object        \n",
      " 1   UF                      50062 non-null  object        \n",
      " 2   Sexo                    50062 non-null  object        \n",
      " 3   Faixa Etária            50062 non-null  object        \n",
      " 4   Mês Abertura            50062 non-null  int8          \n",
      " 5   Data Abertura           50062 non-null  datetime64[ns]\n",
      " 6   Data Resposta           44047 non-null  datetime64[ns]\n",
      " 7   Área                    50062 non-null  object        \n",
      " 8   Assunto                 50062 non-null  object        \n",
      " 9   Grupo Problema          50062 non-null  object        \n",
      " 10  Problema                50062 non-null  object        \n",
      " 11  Como Comprou Contratou  50062 non-null  object        \n",
      " 12  Situação                50062 non-null  object        \n",
      " 13  Avaliação Reclamação    50062 non-null  object        \n",
      " 14  Nota do Consumidor      50062 non-null  int8          \n",
      " 15  Análise da Recusa       6842 non-null   object        \n",
      "dtypes: datetime64[ns](2), int8(2), object(12)\n",
      "memory usage: 6.8+ MB\n"
     ]
    }
   ],
   "source": [
    "df['Mês Abertura'] = df['Mês Abertura'].astype('int8', errors='ignore')\n",
    "df['Data Abertura'] = pd.to_datetime(df['Data Abertura'], format='%d/%m/%Y')\n",
    "df['Data Resposta'] = pd.to_datetime(df['Data Resposta'], format='%d/%m/%Y')\n",
    "df['Nota do Consumidor'] = df['Nota do Consumidor'].astype('int8', errors='ignore')\n",
    "\n",
    "df.info()"
   ]
  },
  {
   "cell_type": "code",
   "execution_count": 181,
   "metadata": {},
   "outputs": [
    {
     "data": {
      "text/plain": [
       "Canal de Origem           50062\n",
       "UF                        50062\n",
       "Sexo                      50062\n",
       "Faixa Etária              50062\n",
       "Mês Abertura              50062\n",
       "Data Abertura             50062\n",
       "Data Resposta             44047\n",
       "Área                      50062\n",
       "Assunto                   50062\n",
       "Grupo Problema            50062\n",
       "Problema                  50062\n",
       "Como Comprou Contratou    50062\n",
       "Situação                  50062\n",
       "Avaliação Reclamação      50062\n",
       "Nota do Consumidor        50062\n",
       "Análise da Recusa          6842\n",
       "dtype: int64"
      ]
     },
     "execution_count": 181,
     "metadata": {},
     "output_type": "execute_result"
    }
   ],
   "source": [
    "df.count()"
   ]
  },
  {
   "cell_type": "markdown",
   "metadata": {},
   "source": [
    "## 1. Qual o número de reclamações por estado?"
   ]
  },
  {
   "cell_type": "code",
   "execution_count": 182,
   "metadata": {},
   "outputs": [
    {
     "name": "stdout",
     "output_type": "stream",
     "text": [
      "       UF          %\n",
      "SP  12695  25.358555\n",
      "RS  10821  21.615197\n",
      "MG   4871   9.729935\n",
      "PR   4226   8.441532\n",
      "RJ   2735   5.463226\n",
      "ES   2237   4.468459\n",
      "BA   2030   4.054972\n",
      "DF   1779   3.553594\n",
      "SC   1767   3.529623\n",
      "GO   1480   2.956334\n",
      "MT    978   1.953578\n",
      "PE    774   1.546083\n",
      "CE    617   1.232472\n",
      "AM    457   0.912868\n",
      "PB    393   0.785027\n",
      "MA    388   0.775039\n",
      "MS    381   0.761056\n",
      "PA    328   0.655188\n",
      "SE    266   0.531341\n",
      "PI    227   0.453438\n",
      "AC    141   0.281651\n",
      "AL    116   0.231713\n",
      "RO     97   0.193760\n",
      "RN     94   0.187767\n",
      "TO     91   0.181775\n",
      "AP     42   0.083896\n",
      "RR     31   0.061923\n"
     ]
    },
    {
     "data": {
      "image/png": "[encoded data removed]",
      "text/plain": [
       "<Figure size 1440x720 with 1 Axes>"
      ]
     },
     "metadata": {
      "needs_background": "light"
     },
     "output_type": "display_data"
    }
   ],
   "source": [
    "df_uf_valores = df['UF'].value_counts()\n",
    "df_uf_perc = pd.DataFrame(df_uf_valores)\n",
    "\n",
    "soma_uf_valores = df_uf_valores.sum()\n",
    "\n",
    "# calcular porcentagens\n",
    "df_uf_perc['%'] = df_uf_perc['UF'] / soma_uf_valores * 100\n",
    "\n",
    "print(df_uf_perc)\n",
    "\n",
    "plt.figure(figsize = (20, 10))\n",
    "plot = sns.barplot(x = df_uf_perc.index, y = df_uf_perc['%'], orient = \"v\", palette = \"RdPu_r\")\n",
    "for i in plot.patches:\n",
    "    plot.annotate(format(i.get_height(), '.2f'),\n",
    "                (i.get_x() + i.get_width() / 2, i.get_height()), \n",
    "                ha = 'center',\n",
    "                va = 'baseline',\n",
    "                fontsize = 13,\n",
    "                color = 'black',\n",
    "                xytext = (0, 5),\n",
    "                textcoords = 'offset points')\n",
    "plt.xlabel('\\nEstados', fontsize = 15)\n",
    "plt.ylabel('\\nPercentual\\n', fontsize = 15)\n",
    "plt.title('\\nPercentual de reclamações por Estado\\n', fontsize = 20)\n",
    "plt.show(plot)"
   ]
  },
  {
   "cell_type": "markdown",
   "metadata": {},
   "source": [
    "\n",
    "Os estados de São Paulo (SP) com 25,36% (1º lugar) e Rio Grande do Sul (RS) 21,62% (2º lugar) **juntos concentram mais 46% do total de reclamações**, seguidos de Minas Gerais (MG) com 9,73% (3º lugar) e Paraná (PR) com 8,44% (4º lugar), estes dois últimos somados (18,17%) ainda ficam abaixo do 2º colocado.\n"
   ]
  },
  {
   "cell_type": "markdown",
   "metadata": {},
   "source": [
    "## 2. Qual o número de reclamações por sexo?"
   ]
  },
  {
   "cell_type": "code",
   "execution_count": 183,
   "metadata": {},
   "outputs": [
    {
     "name": "stdout",
     "output_type": "stream",
     "text": [
      "    Sexo          %\n",
      "M  28178  56.286205\n",
      "F  21854  43.653869\n",
      "O     30   0.059926\n"
     ]
    },
    {
     "data": {
      "image/png": "[encoded data removed]",
      "text/plain": [
       "<Figure size 720x504 with 1 Axes>"
      ]
     },
     "metadata": {
      "needs_background": "light"
     },
     "output_type": "display_data"
    }
   ],
   "source": [
    "df_sexo_valores = df['Sexo'].value_counts()\n",
    "df_sexo_perc = pd.DataFrame(df_sexo_valores)\n",
    "\n",
    "soma_sexo_valores = df_sexo_valores.sum()\n",
    "\n",
    "df_sexo_perc['%'] = df_sexo_perc['Sexo'] / soma_sexo_valores * 100\n",
    "\n",
    "print(df_sexo_perc)\n",
    "\n",
    "df_sexo_perc['Sexo'] = df_sexo_perc.index\n",
    "\n",
    "plt.figure(figsize = (10, 7))\n",
    "plot = sns.barplot(data = df_sexo_perc, \n",
    "                    x = 'Sexo', y = '%', \n",
    "                    orient = 'v',\n",
    "                    palette = ['indigo','rebeccapurple','mediumpurple'])\n",
    "for i in plot.patches:\n",
    "    plot.annotate(format(i.get_height(), '.2f'),\n",
    "                (i.get_x() + i.get_width() / 2, i.get_height()), \n",
    "                ha = 'center',\n",
    "                va = 'baseline',\n",
    "                fontsize = 12,\n",
    "                color = 'black',\n",
    "                xytext = (0, 1),\n",
    "                textcoords = 'offset points')\n",
    "plt.xlabel('')\n",
    "plt.ylabel('\\nPercentual\\n', fontsize = 15)\n",
    "plt.title('\\nPercentual de reclamações por Sexo\\n', fontsize = 20)\n",
    "M = mp.Patch(color = 'indigo', label = \"M - Masculino\")\n",
    "F = mp.Patch(color = 'rebeccapurple', label = \"F - Feminino\")\n",
    "O = mp.Patch(color = 'mediumpurple', label = \"O - Outros\")\n",
    "plt.legend(handles = [M,F,O], loc = 'upper right', bbox_to_anchor = (0.98, 0.96), fontsize = 12)\n",
    "plt.show(plot)\n"
   ]
  },
  {
   "cell_type": "markdown",
   "metadata": {},
   "source": [
    "\n",
    "Pessoas do **sexo masculino (M) respondem por mais da metade** das reclamações, 56,29%, superando a somatória dos outros grupos, feminino (F) e outros (O).\n"
   ]
  },
  {
   "cell_type": "markdown",
   "metadata": {},
   "source": [
    "## 3. Qual o número de reclamações por faixa etária?"
   ]
  },
  {
   "cell_type": "code",
   "execution_count": 199,
   "metadata": {},
   "outputs": [
    {
     "name": "stdout",
     "output_type": "stream",
     "text": [
      "                    Faixa Etária          %\n",
      "entre 31 a 40 anos         15992  31.944389\n",
      "entre 21 a 30 anos         11356  22.683872\n",
      "entre 41 a 50 anos          9895  19.765491\n",
      "entre 51 a 60 anos          6619  13.221605\n",
      "entre 61 a 70 anos          3958   7.906196\n",
      "mais de 70 anos             1658   3.311893\n",
      "até 20 anos                  584   1.166553\n"
     ]
    },
    {
     "data": {
      "image/png": "[encoded data removed]",
      "text/plain": [
       "<Figure size 1152x720 with 1 Axes>"
      ]
     },
     "metadata": {
      "needs_background": "light"
     },
     "output_type": "display_data"
    }
   ],
   "source": [
    "df_faixa_valores = df['Faixa Etária'].value_counts()\n",
    "df_faixa_valores = df_faixa_valores.T\n",
    "\n",
    "df_faixa_perc = pd.DataFrame(df_faixa_valores)\n",
    "\n",
    "soma_faixa_valores = df_faixa_valores.sum()\n",
    "\n",
    "df_faixa_perc['%'] = df_faixa_perc['Faixa Etária'] / soma_faixa_valores * 100\n",
    "\n",
    "print(df_faixa_perc)\n",
    "\n",
    "df_faixa_perc['Faixa Etária'] = df_faixa_perc.index\n",
    "\n",
    "plt.figure(figsize = (16, 10))\n",
    "plot = sns.barplot(data = df_faixa_perc, \n",
    "                    x = '%', y = 'Faixa Etária', \n",
    "                    orient = 'h',\n",
    "                    palette = \"Purples_r\")\n",
    "for i in plot.patches:\n",
    "    plot.annotate(format(i.get_width(), '.2f'),\n",
    "                (i.get_width() + 0.8, i.get_y() + i.get_height() / 2), \n",
    "                ha = 'center',\n",
    "                va = 'baseline',\n",
    "                fontsize = 12,\n",
    "                color = 'black',\n",
    "                xytext = (0, 1),\n",
    "                textcoords = 'offset points')\n",
    "plt.xlabel('\\nPercentual\\n', fontsize = 15)\n",
    "plt.ylabel('')\n",
    "plt.title('\\nPercentual de reclamações por Faixa Etária\\n', fontsize = 20)\n",
    "plt.show(plot)"
   ]
  },
  {
   "cell_type": "markdown",
   "metadata": {},
   "source": [
    "**A faixa etária com os maior percentual de reclamações está entre 31 a 40 anos (31,94%)**, sendo que se somarmos também entre 21 a 30 anos (22,68%) teriamos um percentual de **54.62% de reclamações concentradas apenas em duas faixas etárias** dentro de um conjunto de sete faixas de idade."
   ]
  },
  {
   "cell_type": "markdown",
   "metadata": {},
   "source": [
    "## 4. Qual a quantidade/percentual das reclamações por sexo/faixa etária?"
   ]
  },
  {
   "cell_type": "code",
   "execution_count": null,
   "metadata": {},
   "outputs": [],
   "source": []
  }
 ],
 "metadata": {
  "interpreter": {
   "hash": "ee5cc6fef2d70a7e71ee3826687cbd150f18158e0b1eef11d4f4f92bb920e304"
  },
  "kernelspec": {
   "display_name": "Python 3.9.0 64-bit",
   "name": "python3"
  },
  "language_info": {
   "codemirror_mode": {
    "name": "ipython",
    "version": 3
   },
   "file_extension": ".py",
   "mimetype": "text/x-python",
   "name": "python",
   "nbconvert_exporter": "python",
   "pygments_lexer": "ipython3",
   "version": "3.9.0"
  }
 },
 "nbformat": 4,
 "nbformat_minor": 4
}
