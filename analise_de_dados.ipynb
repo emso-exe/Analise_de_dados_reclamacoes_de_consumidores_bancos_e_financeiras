{
 "cells": [
  {
   "cell_type": "markdown",
   "metadata": {},
   "source": [
    "# Análise de dados: Reclamações de consumidores com empresa de telecomunicações\n",
    "\n",
    "Neste projeto serão analisados os dados de reclamações de consumidores com uma empresa de telecomunicações no 1º semestre de 2021 são dados (.csv) reais extraídos do site [consumidor.gov.br](https://www.consumidor.gov.br) disponibilizados pelo [Portal de dados do Ministério da Justiça](http://dados.mj.gov.br/).\n",
    "\n",
    "## Demanda do negócio\n",
    "\n",
    "- Identificar público com maior insatisfação\n",
    "- Reduzir o número de reclamações\n",
    "- Reduzir o tempo para solução do problema\n",
    "- Obter a melhor nota em atendimento\n",
    "- Identificar o principal motivo de reclamação\n",
    "- Identificar o canal de atendimento com maior índice de insatisfação\n",
    "\n",
    "## Indagações a serem respondidas pela análise exploratória dos dados\n",
    "\n",
    "1. Qual o número de reclamações por estado?\n",
    "2. Qual o número de reclamações por sexo?\n",
    "3. Qual o número de reclamações por faixa etária?\n",
    "4. Qual a quantidade/percentual das reclamações por sexo/faixa etária?\n",
    "\n",
    "5. Qual a quantidade/percentual das reclamações por meio utilizado para contratação/aquisição?\n",
    "6. Qual a quantidade/percentual das reclamações por assunto?\n",
    "7. Qual a quantidade/percentual das reclamações por assunto/problema?\n",
    "8. Qual a quantidade/percentual das reclamações por assunto/contratação?\n",
    "\n",
    "9. Qual a quantidade/percentual de dias entre abertura de reclamações válidas e resposta?\n",
    "10. Qual a quantidade/percentual de dias entre abertura de reclamações contestadas e resposta?\n",
    "11. Qual o número/percentual de avaliação do consumidor?\n",
    "12. Qual a relação entre dias para resposta e avaliação do consumidor?\n",
    "\n",
    "13. Qual a quantidade/percentual das reclamações resolvidas, não resolvidas, não avaliadas e canceladas/encerradas?\n",
    "14. Qual o número/percentual de recusa de reclamações avaliadas como procedentes e improcedentes?"
   ]
  },
  {
   "cell_type": "markdown",
   "metadata": {},
   "source": [
    "## Importação de pacotes"
   ]
  },
  {
   "cell_type": "code",
   "execution_count": 22,
   "metadata": {},
   "outputs": [],
   "source": [
    "import pandas as pd\n",
    "import matplotlib.pyplot as plt\n",
    "import matplotlib.patches as mp\n",
    "import seaborn as sns\n",
    "import glob\n"
   ]
  },
  {
   "cell_type": "markdown",
   "metadata": {},
   "source": [
    "## Carregamento dos dados"
   ]
  },
  {
   "cell_type": "code",
   "execution_count": 23,
   "metadata": {},
   "outputs": [],
   "source": [
    "# Atribuindo ao dataframe os arquivos csv no diretório dados\n",
    "\n",
    "lista_csv = glob.glob('dados/*.csv')\n",
    "\n",
    "converte_csv = lambda k: pd.read_csv(k, sep=';')\n",
    "\n",
    "df = pd.concat(map(converte_csv, lista_csv), ignore_index=True)"
   ]
  },
  {
   "cell_type": "markdown",
   "metadata": {},
   "source": [
    "## Detalhes do dataframe"
   ]
  },
  {
   "cell_type": "code",
   "execution_count": 24,
   "metadata": {},
   "outputs": [
    {
     "data": {
      "text/html": [
       "<div>\n",
       "<style scoped>\n",
       "    .dataframe tbody tr th:only-of-type {\n",
       "        vertical-align: middle;\n",
       "    }\n",
       "\n",
       "    .dataframe tbody tr th {\n",
       "        vertical-align: top;\n",
       "    }\n",
       "\n",
       "    .dataframe thead th {\n",
       "        text-align: right;\n",
       "    }\n",
       "</style>\n",
       "<table border=\"1\" class=\"dataframe\">\n",
       "  <thead>\n",
       "    <tr style=\"text-align: right;\">\n",
       "      <th></th>\n",
       "      <th>Gestor</th>\n",
       "      <th>Canal de Origem</th>\n",
       "      <th>Região</th>\n",
       "      <th>UF</th>\n",
       "      <th>Cidade</th>\n",
       "      <th>Sexo</th>\n",
       "      <th>Faixa Etária</th>\n",
       "      <th>Ano Abertura</th>\n",
       "      <th>Mês Abertura</th>\n",
       "      <th>Data Abertura</th>\n",
       "      <th>...</th>\n",
       "      <th>Grupo Problema</th>\n",
       "      <th>Problema</th>\n",
       "      <th>Como Comprou Contratou</th>\n",
       "      <th>Procurou Empresa</th>\n",
       "      <th>Respondida</th>\n",
       "      <th>Situação</th>\n",
       "      <th>Avaliação Reclamação</th>\n",
       "      <th>Nota do Consumidor</th>\n",
       "      <th>Análise da Recusa</th>\n",
       "      <th>Grupo Econômico</th>\n",
       "    </tr>\n",
       "  </thead>\n",
       "  <tbody>\n",
       "    <tr>\n",
       "      <th>730979</th>\n",
       "      <td>Secretaria Nacional do Consumidor</td>\n",
       "      <td>Plataforma Web</td>\n",
       "      <td>NE</td>\n",
       "      <td>MA</td>\n",
       "      <td>São Domingos do Maranhão</td>\n",
       "      <td>M</td>\n",
       "      <td>entre 61 a 70 anos</td>\n",
       "      <td>2021.0</td>\n",
       "      <td>6.0</td>\n",
       "      <td>01/06/2021</td>\n",
       "      <td>...</td>\n",
       "      <td>Cobrança / Contestação</td>\n",
       "      <td>Cálculo de juros, saldo devedor (contestação, ...</td>\n",
       "      <td>Loja física</td>\n",
       "      <td>S</td>\n",
       "      <td>S</td>\n",
       "      <td>Finalizada avaliada</td>\n",
       "      <td>Resolvida</td>\n",
       "      <td>3.0</td>\n",
       "      <td>NaN</td>\n",
       "      <td>Santander</td>\n",
       "    </tr>\n",
       "    <tr>\n",
       "      <th>500254</th>\n",
       "      <td>Fundação de Proteção e Defesa do Consumidor</td>\n",
       "      <td>Plataforma Web</td>\n",
       "      <td>SE</td>\n",
       "      <td>SP</td>\n",
       "      <td>Campinas</td>\n",
       "      <td>M</td>\n",
       "      <td>entre 41 a 50 anos</td>\n",
       "      <td>2021.0</td>\n",
       "      <td>4.0</td>\n",
       "      <td>12/04/2021</td>\n",
       "      <td>...</td>\n",
       "      <td>Informação</td>\n",
       "      <td>Dificuldade de acesso a dados pessoais ou fina...</td>\n",
       "      <td>Não comprei / contratei</td>\n",
       "      <td>N</td>\n",
       "      <td>S</td>\n",
       "      <td>Finalizada avaliada</td>\n",
       "      <td>Resolvida</td>\n",
       "      <td>3.0</td>\n",
       "      <td>NaN</td>\n",
       "      <td>NaN</td>\n",
       "    </tr>\n",
       "    <tr>\n",
       "      <th>717074</th>\n",
       "      <td>Departamento Estadual de Proteção e Defesa do ...</td>\n",
       "      <td>Plataforma Web</td>\n",
       "      <td>S</td>\n",
       "      <td>PR</td>\n",
       "      <td>São José dos Pinhais</td>\n",
       "      <td>F</td>\n",
       "      <td>entre 31 a 40 anos</td>\n",
       "      <td>2021.0</td>\n",
       "      <td>5.0</td>\n",
       "      <td>27/05/2021</td>\n",
       "      <td>...</td>\n",
       "      <td>Atendimento / SAC</td>\n",
       "      <td>Dificuldade de contato / acesso a outros canai...</td>\n",
       "      <td>Internet</td>\n",
       "      <td>S</td>\n",
       "      <td>S</td>\n",
       "      <td>Finalizada não avaliada</td>\n",
       "      <td>Não Avaliada</td>\n",
       "      <td>NaN</td>\n",
       "      <td>NaN</td>\n",
       "      <td>NaN</td>\n",
       "    </tr>\n",
       "    <tr>\n",
       "      <th>845180</th>\n",
       "      <td>Fundação de Proteção e Defesa do Consumidor</td>\n",
       "      <td>Plataforma Web</td>\n",
       "      <td>SE</td>\n",
       "      <td>SP</td>\n",
       "      <td>Cotia</td>\n",
       "      <td>F</td>\n",
       "      <td>entre 41 a 50 anos</td>\n",
       "      <td>2021.0</td>\n",
       "      <td>6.0</td>\n",
       "      <td>28/06/2021</td>\n",
       "      <td>...</td>\n",
       "      <td>Cobrança / Contestação</td>\n",
       "      <td>Cobrança por serviço/produto não contratado / ...</td>\n",
       "      <td>Telefone</td>\n",
       "      <td>S</td>\n",
       "      <td>S</td>\n",
       "      <td>Finalizada avaliada</td>\n",
       "      <td>Não Resolvida</td>\n",
       "      <td>1.0</td>\n",
       "      <td>NaN</td>\n",
       "      <td>NaN</td>\n",
       "    </tr>\n",
       "    <tr>\n",
       "      <th>471622</th>\n",
       "      <td>Departamento Estadual de Proteção e Defesa do ...</td>\n",
       "      <td>Plataforma Web</td>\n",
       "      <td>S</td>\n",
       "      <td>PR</td>\n",
       "      <td>Pinhais</td>\n",
       "      <td>M</td>\n",
       "      <td>entre 31 a 40 anos</td>\n",
       "      <td>2021.0</td>\n",
       "      <td>3.0</td>\n",
       "      <td>31/03/2021</td>\n",
       "      <td>...</td>\n",
       "      <td>Cobrança / Contestação</td>\n",
       "      <td>Cobrança indevida / abusiva para alterar ou ca...</td>\n",
       "      <td>Telefone</td>\n",
       "      <td>S</td>\n",
       "      <td>S</td>\n",
       "      <td>Finalizada avaliada</td>\n",
       "      <td>Resolvida</td>\n",
       "      <td>4.0</td>\n",
       "      <td>NaN</td>\n",
       "      <td>OI</td>\n",
       "    </tr>\n",
       "    <tr>\n",
       "      <th>182062</th>\n",
       "      <td>Secretaria Nacional do Consumidor</td>\n",
       "      <td>Plataforma Web</td>\n",
       "      <td>NE</td>\n",
       "      <td>PI</td>\n",
       "      <td>Altos</td>\n",
       "      <td>M</td>\n",
       "      <td>entre 31 a 40 anos</td>\n",
       "      <td>2021.0</td>\n",
       "      <td>1.0</td>\n",
       "      <td>25/01/2021</td>\n",
       "      <td>...</td>\n",
       "      <td>Cobrança / Contestação</td>\n",
       "      <td>Negativação indevida (SPC, Serasa, SCPC etc)</td>\n",
       "      <td>Loja física</td>\n",
       "      <td>S</td>\n",
       "      <td>S</td>\n",
       "      <td>Finalizada não avaliada</td>\n",
       "      <td>Não Avaliada</td>\n",
       "      <td>NaN</td>\n",
       "      <td>NaN</td>\n",
       "      <td>NaN</td>\n",
       "    </tr>\n",
       "    <tr>\n",
       "      <th>651079</th>\n",
       "      <td>Fundação de Proteção e Defesa do Consumidor</td>\n",
       "      <td>Plataforma Web</td>\n",
       "      <td>SE</td>\n",
       "      <td>SP</td>\n",
       "      <td>Ribeirão Preto</td>\n",
       "      <td>F</td>\n",
       "      <td>entre 61 a 70 anos</td>\n",
       "      <td>2021.0</td>\n",
       "      <td>5.0</td>\n",
       "      <td>04/05/2021</td>\n",
       "      <td>...</td>\n",
       "      <td>Vício de Qualidade</td>\n",
       "      <td>Portabilidade não efetivada</td>\n",
       "      <td>Loja física</td>\n",
       "      <td>N</td>\n",
       "      <td>S</td>\n",
       "      <td>Finalizada não avaliada</td>\n",
       "      <td>Não Avaliada</td>\n",
       "      <td>NaN</td>\n",
       "      <td>NaN</td>\n",
       "      <td>Bradesco</td>\n",
       "    </tr>\n",
       "    <tr>\n",
       "      <th>186761</th>\n",
       "      <td>Secretaria de Estado da Justiça e Cidadania de...</td>\n",
       "      <td>Plataforma Web</td>\n",
       "      <td>S</td>\n",
       "      <td>SC</td>\n",
       "      <td>Itapema</td>\n",
       "      <td>M</td>\n",
       "      <td>entre 41 a 50 anos</td>\n",
       "      <td>2021.0</td>\n",
       "      <td>1.0</td>\n",
       "      <td>26/01/2021</td>\n",
       "      <td>...</td>\n",
       "      <td>Contrato / Oferta</td>\n",
       "      <td>Oferta não cumprida / serviço não fornecido/ v...</td>\n",
       "      <td>Internet</td>\n",
       "      <td>S</td>\n",
       "      <td>S</td>\n",
       "      <td>Finalizada não avaliada</td>\n",
       "      <td>Não Avaliada</td>\n",
       "      <td>NaN</td>\n",
       "      <td>NaN</td>\n",
       "      <td>NaN</td>\n",
       "    </tr>\n",
       "    <tr>\n",
       "      <th>430639</th>\n",
       "      <td>Fundação de Proteção e Defesa do Consumidor</td>\n",
       "      <td>Plataforma Web</td>\n",
       "      <td>SE</td>\n",
       "      <td>SP</td>\n",
       "      <td>Ribeirão Preto</td>\n",
       "      <td>F</td>\n",
       "      <td>entre 21 a 30 anos</td>\n",
       "      <td>2021.0</td>\n",
       "      <td>3.0</td>\n",
       "      <td>19/03/2021</td>\n",
       "      <td>...</td>\n",
       "      <td>Atendimento / SAC</td>\n",
       "      <td>Dificuldade de contato / demora no atendimento</td>\n",
       "      <td>Internet</td>\n",
       "      <td>S</td>\n",
       "      <td>S</td>\n",
       "      <td>Finalizada não avaliada</td>\n",
       "      <td>Não Avaliada</td>\n",
       "      <td>NaN</td>\n",
       "      <td>NaN</td>\n",
       "      <td>Mercado Livre</td>\n",
       "    </tr>\n",
       "    <tr>\n",
       "      <th>434545</th>\n",
       "      <td>Secretaria Nacional do Consumidor</td>\n",
       "      <td>Plataforma Web</td>\n",
       "      <td>CO</td>\n",
       "      <td>DF</td>\n",
       "      <td>Brasília</td>\n",
       "      <td>M</td>\n",
       "      <td>mais de 70 anos</td>\n",
       "      <td>2021.0</td>\n",
       "      <td>3.0</td>\n",
       "      <td>20/03/2021</td>\n",
       "      <td>...</td>\n",
       "      <td>Vício de Qualidade</td>\n",
       "      <td>Cancelamento de voo</td>\n",
       "      <td>Internet</td>\n",
       "      <td>S</td>\n",
       "      <td>S</td>\n",
       "      <td>Finalizada não avaliada</td>\n",
       "      <td>Não Avaliada</td>\n",
       "      <td>NaN</td>\n",
       "      <td>NaN</td>\n",
       "      <td>Azul</td>\n",
       "    </tr>\n",
       "  </tbody>\n",
       "</table>\n",
       "<p>10 rows × 31 columns</p>\n",
       "</div>"
      ],
      "text/plain": [
       "                                                   Gestor Canal de Origem  \\\n",
       "730979                  Secretaria Nacional do Consumidor  Plataforma Web   \n",
       "500254        Fundação de Proteção e Defesa do Consumidor  Plataforma Web   \n",
       "717074  Departamento Estadual de Proteção e Defesa do ...  Plataforma Web   \n",
       "845180        Fundação de Proteção e Defesa do Consumidor  Plataforma Web   \n",
       "471622  Departamento Estadual de Proteção e Defesa do ...  Plataforma Web   \n",
       "182062                  Secretaria Nacional do Consumidor  Plataforma Web   \n",
       "651079        Fundação de Proteção e Defesa do Consumidor  Plataforma Web   \n",
       "186761  Secretaria de Estado da Justiça e Cidadania de...  Plataforma Web   \n",
       "430639        Fundação de Proteção e Defesa do Consumidor  Plataforma Web   \n",
       "434545                  Secretaria Nacional do Consumidor  Plataforma Web   \n",
       "\n",
       "       Região  UF                    Cidade Sexo        Faixa Etária  \\\n",
       "730979     NE  MA  São Domingos do Maranhão    M  entre 61 a 70 anos   \n",
       "500254     SE  SP                  Campinas    M  entre 41 a 50 anos   \n",
       "717074     S   PR      São José dos Pinhais    F  entre 31 a 40 anos   \n",
       "845180     SE  SP                     Cotia    F  entre 41 a 50 anos   \n",
       "471622     S   PR                   Pinhais    M  entre 31 a 40 anos   \n",
       "182062     NE  PI                     Altos    M  entre 31 a 40 anos   \n",
       "651079     SE  SP            Ribeirão Preto    F  entre 61 a 70 anos   \n",
       "186761     S   SC                   Itapema    M  entre 41 a 50 anos   \n",
       "430639     SE  SP            Ribeirão Preto    F  entre 21 a 30 anos   \n",
       "434545     CO  DF                  Brasília    M     mais de 70 anos   \n",
       "\n",
       "        Ano Abertura  Mês Abertura Data Abertura  ...          Grupo Problema  \\\n",
       "730979        2021.0           6.0    01/06/2021  ...  Cobrança / Contestação   \n",
       "500254        2021.0           4.0    12/04/2021  ...              Informação   \n",
       "717074        2021.0           5.0    27/05/2021  ...       Atendimento / SAC   \n",
       "845180        2021.0           6.0    28/06/2021  ...  Cobrança / Contestação   \n",
       "471622        2021.0           3.0    31/03/2021  ...  Cobrança / Contestação   \n",
       "182062        2021.0           1.0    25/01/2021  ...  Cobrança / Contestação   \n",
       "651079        2021.0           5.0    04/05/2021  ...      Vício de Qualidade   \n",
       "186761        2021.0           1.0    26/01/2021  ...       Contrato / Oferta   \n",
       "430639        2021.0           3.0    19/03/2021  ...       Atendimento / SAC   \n",
       "434545        2021.0           3.0    20/03/2021  ...      Vício de Qualidade   \n",
       "\n",
       "                                                 Problema  \\\n",
       "730979  Cálculo de juros, saldo devedor (contestação, ...   \n",
       "500254  Dificuldade de acesso a dados pessoais ou fina...   \n",
       "717074  Dificuldade de contato / acesso a outros canai...   \n",
       "845180  Cobrança por serviço/produto não contratado / ...   \n",
       "471622  Cobrança indevida / abusiva para alterar ou ca...   \n",
       "182062       Negativação indevida (SPC, Serasa, SCPC etc)   \n",
       "651079                        Portabilidade não efetivada   \n",
       "186761  Oferta não cumprida / serviço não fornecido/ v...   \n",
       "430639     Dificuldade de contato / demora no atendimento   \n",
       "434545                                Cancelamento de voo   \n",
       "\n",
       "         Como Comprou Contratou Procurou Empresa Respondida  \\\n",
       "730979              Loja física                S          S   \n",
       "500254  Não comprei / contratei                N          S   \n",
       "717074                 Internet                S          S   \n",
       "845180                 Telefone                S          S   \n",
       "471622                 Telefone                S          S   \n",
       "182062              Loja física                S          S   \n",
       "651079              Loja física                N          S   \n",
       "186761                 Internet                S          S   \n",
       "430639                 Internet                S          S   \n",
       "434545                 Internet                S          S   \n",
       "\n",
       "                       Situação  Avaliação Reclamação Nota do Consumidor  \\\n",
       "730979      Finalizada avaliada             Resolvida                3.0   \n",
       "500254      Finalizada avaliada             Resolvida                3.0   \n",
       "717074  Finalizada não avaliada          Não Avaliada                NaN   \n",
       "845180      Finalizada avaliada         Não Resolvida                1.0   \n",
       "471622      Finalizada avaliada             Resolvida                4.0   \n",
       "182062  Finalizada não avaliada          Não Avaliada                NaN   \n",
       "651079  Finalizada não avaliada          Não Avaliada                NaN   \n",
       "186761  Finalizada não avaliada          Não Avaliada                NaN   \n",
       "430639  Finalizada não avaliada          Não Avaliada                NaN   \n",
       "434545  Finalizada não avaliada          Não Avaliada                NaN   \n",
       "\n",
       "       Análise da Recusa Grupo Econômico  \n",
       "730979               NaN       Santander  \n",
       "500254               NaN             NaN  \n",
       "717074               NaN             NaN  \n",
       "845180               NaN             NaN  \n",
       "471622               NaN              OI  \n",
       "182062               NaN             NaN  \n",
       "651079               NaN        Bradesco  \n",
       "186761               NaN             NaN  \n",
       "430639               NaN   Mercado Livre  \n",
       "434545               NaN            Azul  \n",
       "\n",
       "[10 rows x 31 columns]"
      ]
     },
     "execution_count": 24,
     "metadata": {},
     "output_type": "execute_result"
    }
   ],
   "source": [
    "df.sample(10)"
   ]
  },
  {
   "cell_type": "code",
   "execution_count": 25,
   "metadata": {},
   "outputs": [
    {
     "data": {
      "text/plain": [
       "Index(['Gestor', 'Canal de Origem', 'Região', 'UF', 'Cidade', 'Sexo',\n",
       "       'Faixa Etária', 'Ano Abertura', 'Mês Abertura', 'Data Abertura',\n",
       "       'Data Resposta', 'Data Análise', 'Data Recusa', 'Data Finalização',\n",
       "       'Prazo Resposta', 'Prazo Analise Gestor', 'Tempo Resposta',\n",
       "       'Nome Fantasia', 'Segmento de Mercado', 'Área', 'Assunto',\n",
       "       'Grupo Problema', 'Problema', 'Como Comprou Contratou',\n",
       "       'Procurou Empresa', 'Respondida', 'Situação', 'Avaliação Reclamação',\n",
       "       'Nota do Consumidor', 'Análise da Recusa', 'Grupo Econômico'],\n",
       "      dtype='object')"
      ]
     },
     "execution_count": 25,
     "metadata": {},
     "output_type": "execute_result"
    }
   ],
   "source": [
    "df.columns"
   ]
  },
  {
   "cell_type": "code",
   "execution_count": 26,
   "metadata": {},
   "outputs": [
    {
     "data": {
      "text/plain": [
       "(897662, 31)"
      ]
     },
     "execution_count": 26,
     "metadata": {},
     "output_type": "execute_result"
    }
   ],
   "source": [
    "df.shape"
   ]
  },
  {
   "cell_type": "markdown",
   "metadata": {},
   "source": [
    "## Seleção das linhas e colunas relevantes"
   ]
  },
  {
   "cell_type": "code",
   "execution_count": 27,
   "metadata": {},
   "outputs": [
    {
     "data": {
      "text/plain": [
       "(58278, 31)"
      ]
     },
     "execution_count": 27,
     "metadata": {},
     "output_type": "execute_result"
    }
   ],
   "source": [
    "# Selecionando a empresa alvo da análise\n",
    "\n",
    "df = df.loc[df['Nome Fantasia'] == 'Vivo - Telefônica']\n",
    "df.shape"
   ]
  },
  {
   "cell_type": "code",
   "execution_count": 28,
   "metadata": {},
   "outputs": [
    {
     "data": {
      "text/plain": [
       "(58278, 16)"
      ]
     },
     "execution_count": 28,
     "metadata": {},
     "output_type": "execute_result"
    }
   ],
   "source": [
    "# Removendo as colunas que não serão utilizadas na análise\n",
    "\n",
    "df = df.drop(columns=[\n",
    "    'Gestor','Região','Cidade','Ano Abertura','Data Análise','Data Recusa',\n",
    "    'Data Finalização','Prazo Resposta','Tempo Resposta','Grupo Econômico',\n",
    "    'Prazo Analise Gestor','Nome Fantasia','Segmento de Mercado',\n",
    "    'Procurou Empresa','Respondida'])\n",
    "df.shape"
   ]
  },
  {
   "cell_type": "code",
   "execution_count": 29,
   "metadata": {},
   "outputs": [
    {
     "name": "stdout",
     "output_type": "stream",
     "text": [
      "<class 'pandas.core.frame.DataFrame'>\n",
      "Int64Index: 58278 entries, 30 to 897598\n",
      "Data columns (total 16 columns):\n",
      " #   Column                  Non-Null Count  Dtype  \n",
      "---  ------                  --------------  -----  \n",
      " 0   Canal de Origem         58278 non-null  object \n",
      " 1   UF                      58278 non-null  object \n",
      " 2   Sexo                    58274 non-null  object \n",
      " 3   Faixa Etária            58278 non-null  object \n",
      " 4   Mês Abertura            58278 non-null  float64\n",
      " 5   Data Abertura           58278 non-null  object \n",
      " 6   Data Resposta           51396 non-null  object \n",
      " 7   Área                    58278 non-null  object \n",
      " 8   Assunto                 58278 non-null  object \n",
      " 9   Grupo Problema          58278 non-null  object \n",
      " 10  Problema                58278 non-null  object \n",
      " 11  Como Comprou Contratou  58278 non-null  object \n",
      " 12  Situação                58278 non-null  object \n",
      " 13  Avaliação Reclamação    51387 non-null  object \n",
      " 14  Nota do Consumidor      31028 non-null  float64\n",
      " 15  Análise da Recusa       7848 non-null   object \n",
      "dtypes: float64(2), object(14)\n",
      "memory usage: 7.6+ MB\n"
     ]
    }
   ],
   "source": [
    "df.info()"
   ]
  },
  {
   "cell_type": "code",
   "execution_count": 30,
   "metadata": {},
   "outputs": [
    {
     "name": "stdout",
     "output_type": "stream",
     "text": [
      "[ 1. 11. 12.  2.  3.  4.  5.  6.  7.]\n",
      "[1. 2. 3. 4. 5. 6.]\n"
     ]
    }
   ],
   "source": [
    "# Será considerado apenas as reclamações abertas entre janeiro e junho\n",
    "# meses anteriores e posteriores ao período serão excluídos.\n",
    "\n",
    "print(df['Mês Abertura'].unique())\n",
    "\n",
    "df_remover = df.loc[\n",
    "    (df['Mês Abertura'] == 11) | \n",
    "    (df['Mês Abertura'] == 12) | \n",
    "    (df['Mês Abertura'] == 7)\n",
    "    ]\n",
    "\n",
    "df = df.drop(df_remover.index)\n",
    "\n",
    "print(df['Mês Abertura'].unique())"
   ]
  },
  {
   "cell_type": "markdown",
   "metadata": {},
   "source": [
    "## Tratando valores nulos"
   ]
  },
  {
   "cell_type": "code",
   "execution_count": 31,
   "metadata": {},
   "outputs": [
    {
     "data": {
      "text/plain": [
       "Canal de Origem               0\n",
       "UF                            0\n",
       "Sexo                          4\n",
       "Faixa Etária                  0\n",
       "Mês Abertura                  0\n",
       "Data Abertura                 0\n",
       "Data Resposta              6015\n",
       "Área                          0\n",
       "Assunto                       0\n",
       "Grupo Problema                0\n",
       "Problema                      0\n",
       "Como Comprou Contratou        0\n",
       "Situação                      0\n",
       "Avaliação Reclamação       6023\n",
       "Nota do Consumidor        23484\n",
       "Análise da Recusa         43220\n",
       "dtype: int64"
      ]
     },
     "execution_count": 31,
     "metadata": {},
     "output_type": "execute_result"
    }
   ],
   "source": [
    "df.isnull().sum()"
   ]
  },
  {
   "cell_type": "code",
   "execution_count": 32,
   "metadata": {},
   "outputs": [
    {
     "name": "stdout",
     "output_type": "stream",
     "text": [
      "['M' 'F' 'O' nan]\n",
      "['M' 'F' 'O']\n"
     ]
    },
    {
     "data": {
      "text/plain": [
       "0"
      ]
     },
     "execution_count": 32,
     "metadata": {},
     "output_type": "execute_result"
    }
   ],
   "source": [
    "# Coluna [Sexo]\n",
    "# Quando o valor do campo for nulo será considerado \"O\" outros.\n",
    "\n",
    "print(df['Sexo'].unique())\n",
    "df['Sexo'].fillna('O', inplace=True)\n",
    "print(df['Sexo'].unique())\n",
    "df['Sexo'].isnull().sum()"
   ]
  },
  {
   "cell_type": "code",
   "execution_count": 33,
   "metadata": {},
   "outputs": [
    {
     "name": "stdout",
     "output_type": "stream",
     "text": [
      "38319     22/01/2021\n",
      "227285    16/02/2021\n",
      "230687    18/02/2021\n",
      "703784    31/05/2021\n",
      "546207    23/04/2021\n",
      "309516    10/02/2021\n",
      "318348    19/02/2021\n",
      "709975    01/06/2021\n",
      "247662    10/03/2021\n",
      "429396    25/03/2021\n",
      "Name: Data Resposta, dtype: object\n"
     ]
    },
    {
     "data": {
      "text/plain": [
       "50062"
      ]
     },
     "execution_count": 33,
     "metadata": {},
     "output_type": "execute_result"
    }
   ],
   "source": [
    "# Coluna [Data Resposta]\n",
    "# Quando nulo é referente a reclamações canceladas por serem improcedentes \n",
    "# ou encerradas quando não avaliadas em tempo hábil pelo orgão gestor de reclamações.\n",
    "\n",
    "print(df['Data Resposta'].sample(10))\n",
    "df['Data Resposta'].isnull().count()"
   ]
  },
  {
   "cell_type": "code",
   "execution_count": 34,
   "metadata": {},
   "outputs": [
    {
     "name": "stdout",
     "output_type": "stream",
     "text": [
      "['Resolvida' nan 'Não Avaliada' 'Não Resolvida']\n",
      "['Resolvida' 'Cancelada' 'Não Avaliada' 'Não Resolvida' 'Encerrada']\n"
     ]
    },
    {
     "data": {
      "text/plain": [
       "0"
      ]
     },
     "execution_count": 34,
     "metadata": {},
     "output_type": "execute_result"
    }
   ],
   "source": [
    "# Coluna [Avaliação Reclamação]\n",
    "# Quando nulo as reclamações foram canceladas por serem improcedentes\n",
    "# ou encerradas quando não avaliadas em tempo hábil pelo orgão gestor de reclamações.\n",
    "# Quando nulo será considerado o valor correspondente da coluna 'Situação'.\n",
    "\n",
    "print(df['Avaliação Reclamação'].unique()) \n",
    "df.loc[df['Avaliação Reclamação'].isnull(), 'Avaliação Reclamação'] = df['Situação']\n",
    "print(df['Avaliação Reclamação'].unique()) \n",
    "df['Avaliação Reclamação'].isnull().sum()\n"
   ]
  },
  {
   "cell_type": "code",
   "execution_count": 35,
   "metadata": {},
   "outputs": [
    {
     "name": "stdout",
     "output_type": "stream",
     "text": [
      "[ 5. nan  4.  3.  1.  2.]\n",
      "[5. 0. 4. 3. 1. 2.]\n"
     ]
    },
    {
     "data": {
      "text/plain": [
       "0"
      ]
     },
     "execution_count": 35,
     "metadata": {},
     "output_type": "execute_result"
    }
   ],
   "source": [
    "# Coluna [Nota do Consumidor]\n",
    "# Quando nulo as reclamações foram canceladas por serem improcedentes\n",
    "# ou encerradas quando não avaliadas em tempo hábil pelo orgão gestor de reclamações.\n",
    "# Quando nulo será considerado 0 \"zero\".\n",
    "\n",
    "print(df['Nota do Consumidor'].unique())\n",
    "df['Nota do Consumidor'].fillna(0, inplace=True)\n",
    "print(df['Nota do Consumidor'].unique())\n",
    "df['Nota do Consumidor'].isnull().sum()"
   ]
  },
  {
   "cell_type": "code",
   "execution_count": 36,
   "metadata": {},
   "outputs": [
    {
     "name": "stdout",
     "output_type": "stream",
     "text": [
      "[nan 'Procedente' 'Encerrada' 'Improcedente']\n"
     ]
    },
    {
     "data": {
      "text/plain": [
       "43220"
      ]
     },
     "execution_count": 36,
     "metadata": {},
     "output_type": "execute_result"
    }
   ],
   "source": [
    "# Coluna [Análise da Recusa]\n",
    "# Quando nulo não houve recusa da reclamação pela empresa reclamada.\n",
    "\n",
    "print(df['Análise da Recusa'].unique())\n",
    "df['Análise da Recusa'].isnull().sum()"
   ]
  },
  {
   "cell_type": "markdown",
   "metadata": {},
   "source": [
    "## Tratando os tipos de valores"
   ]
  },
  {
   "cell_type": "code",
   "execution_count": 37,
   "metadata": {},
   "outputs": [
    {
     "data": {
      "text/plain": [
       "Canal de Origem            object\n",
       "UF                         object\n",
       "Sexo                       object\n",
       "Faixa Etária               object\n",
       "Mês Abertura              float64\n",
       "Data Abertura              object\n",
       "Data Resposta              object\n",
       "Área                       object\n",
       "Assunto                    object\n",
       "Grupo Problema             object\n",
       "Problema                   object\n",
       "Como Comprou Contratou     object\n",
       "Situação                   object\n",
       "Avaliação Reclamação       object\n",
       "Nota do Consumidor        float64\n",
       "Análise da Recusa          object\n",
       "dtype: object"
      ]
     },
     "execution_count": 37,
     "metadata": {},
     "output_type": "execute_result"
    }
   ],
   "source": [
    "df.dtypes"
   ]
  },
  {
   "cell_type": "code",
   "execution_count": 38,
   "metadata": {},
   "outputs": [
    {
     "name": "stdout",
     "output_type": "stream",
     "text": [
      "<class 'pandas.core.frame.DataFrame'>\n",
      "Int64Index: 50062 entries, 30 to 854051\n",
      "Data columns (total 16 columns):\n",
      " #   Column                  Non-Null Count  Dtype         \n",
      "---  ------                  --------------  -----         \n",
      " 0   Canal de Origem         50062 non-null  object        \n",
      " 1   UF                      50062 non-null  object        \n",
      " 2   Sexo                    50062 non-null  object        \n",
      " 3   Faixa Etária            50062 non-null  object        \n",
      " 4   Mês Abertura            50062 non-null  int8          \n",
      " 5   Data Abertura           50062 non-null  datetime64[ns]\n",
      " 6   Data Resposta           44047 non-null  datetime64[ns]\n",
      " 7   Área                    50062 non-null  object        \n",
      " 8   Assunto                 50062 non-null  object        \n",
      " 9   Grupo Problema          50062 non-null  object        \n",
      " 10  Problema                50062 non-null  object        \n",
      " 11  Como Comprou Contratou  50062 non-null  object        \n",
      " 12  Situação                50062 non-null  object        \n",
      " 13  Avaliação Reclamação    50062 non-null  object        \n",
      " 14  Nota do Consumidor      50062 non-null  int8          \n",
      " 15  Análise da Recusa       6842 non-null   object        \n",
      "dtypes: datetime64[ns](2), int8(2), object(12)\n",
      "memory usage: 6.8+ MB\n"
     ]
    }
   ],
   "source": [
    "df['Mês Abertura'] = df['Mês Abertura'].astype('int8', errors='ignore')\n",
    "df['Data Abertura'] = pd.to_datetime(df['Data Abertura'], format='%d/%m/%Y')\n",
    "df['Data Resposta'] = pd.to_datetime(df['Data Resposta'], format='%d/%m/%Y')\n",
    "df['Nota do Consumidor'] = df['Nota do Consumidor'].astype('int8', errors='ignore')\n",
    "\n",
    "df.info()"
   ]
  },
  {
   "cell_type": "code",
   "execution_count": 39,
   "metadata": {},
   "outputs": [
    {
     "data": {
      "text/plain": [
       "Canal de Origem           50062\n",
       "UF                        50062\n",
       "Sexo                      50062\n",
       "Faixa Etária              50062\n",
       "Mês Abertura              50062\n",
       "Data Abertura             50062\n",
       "Data Resposta             44047\n",
       "Área                      50062\n",
       "Assunto                   50062\n",
       "Grupo Problema            50062\n",
       "Problema                  50062\n",
       "Como Comprou Contratou    50062\n",
       "Situação                  50062\n",
       "Avaliação Reclamação      50062\n",
       "Nota do Consumidor        50062\n",
       "Análise da Recusa          6842\n",
       "dtype: int64"
      ]
     },
     "execution_count": 39,
     "metadata": {},
     "output_type": "execute_result"
    }
   ],
   "source": [
    "df.count()"
   ]
  },
  {
   "cell_type": "markdown",
   "metadata": {},
   "source": [
    "## 1. Qual o número de reclamações por estado?"
   ]
  },
  {
   "cell_type": "code",
   "execution_count": 40,
   "metadata": {},
   "outputs": [
    {
     "name": "stdout",
     "output_type": "stream",
     "text": [
      "       UF          %\n",
      "SP  12695  25.358555\n",
      "RS  10821  21.615197\n",
      "MG   4871   9.729935\n",
      "PR   4226   8.441532\n",
      "RJ   2735   5.463226\n",
      "ES   2237   4.468459\n",
      "BA   2030   4.054972\n",
      "DF   1779   3.553594\n",
      "SC   1767   3.529623\n",
      "GO   1480   2.956334\n",
      "MT    978   1.953578\n",
      "PE    774   1.546083\n",
      "CE    617   1.232472\n",
      "AM    457   0.912868\n",
      "PB    393   0.785027\n",
      "MA    388   0.775039\n",
      "MS    381   0.761056\n",
      "PA    328   0.655188\n",
      "SE    266   0.531341\n",
      "PI    227   0.453438\n",
      "AC    141   0.281651\n",
      "AL    116   0.231713\n",
      "RO     97   0.193760\n",
      "RN     94   0.187767\n",
      "TO     91   0.181775\n",
      "AP     42   0.083896\n",
      "RR     31   0.061923\n"
     ]
    },
    {
     "data": {
      "image/png": "[encoded data removed]",
      "text/plain": [
       "<Figure size 1440x720 with 1 Axes>"
      ]
     },
     "metadata": {
      "needs_background": "light"
     },
     "output_type": "display_data"
    }
   ],
   "source": [
    "df_uf_valores = df['UF'].value_counts()\n",
    "df_uf_perc = pd.DataFrame(df_uf_valores)\n",
    "\n",
    "soma_uf_valores = df_uf_valores.sum()\n",
    "\n",
    "# calcular porcentagens\n",
    "df_uf_perc['%'] = df_uf_perc['UF'] / soma_uf_valores * 100\n",
    "\n",
    "print(df_uf_perc)\n",
    "\n",
    "plt.figure(figsize = (20, 10))\n",
    "plot = sns.barplot(x = df_uf_perc.index, y = df_uf_perc['%'], orient = \"v\", palette = \"RdPu_r\")\n",
    "for i in plot.patches:\n",
    "    plot.annotate(format(i.get_height(), '.2f'),\n",
    "                (i.get_x() + i.get_width() / 2, i.get_height()), \n",
    "                ha = 'center',\n",
    "                va = 'baseline',\n",
    "                fontsize = 13,\n",
    "                color = 'black',\n",
    "                xytext = (0, 5),\n",
    "                textcoords = 'offset points')\n",
    "plt.xlabel('\\nEstados', fontsize = 15)\n",
    "plt.ylabel('\\nPercentual\\n', fontsize = 15)\n",
    "plt.title('\\nPercentual de reclamações por Estado\\n', fontsize = 20)\n",
    "plt.show(plot)"
   ]
  },
  {
   "cell_type": "markdown",
   "metadata": {},
   "source": [
    "\n",
    "Os estados de São Paulo (SP) com 25,36% (1º lugar) e Rio Grande do Sul (RS) 21,62% (2º lugar) **juntos concentram mais 46% do total de reclamações**, seguidos de Minas Gerais (MG) com 9,73% (3º lugar) e Paraná (PR) com 8,44% (4º lugar), estes dois últimos somados (18,17%) ainda ficam abaixo do 2º colocado.\n"
   ]
  },
  {
   "cell_type": "markdown",
   "metadata": {},
   "source": [
    "## 2. Qual o número de reclamações por sexo?"
   ]
  },
  {
   "cell_type": "code",
   "execution_count": 41,
   "metadata": {},
   "outputs": [
    {
     "name": "stdout",
     "output_type": "stream",
     "text": [
      "    Sexo          %\n",
      "M  28178  56.286205\n",
      "F  21854  43.653869\n",
      "O     30   0.059926\n"
     ]
    },
    {
     "data": {
      "image/png": "[encoded data removed]",
      "text/plain": [
       "<Figure size 720x504 with 1 Axes>"
      ]
     },
     "metadata": {
      "needs_background": "light"
     },
     "output_type": "display_data"
    }
   ],
   "source": [
    "df_sexo_valores = df['Sexo'].value_counts()\n",
    "df_sexo_perc = pd.DataFrame(df_sexo_valores)\n",
    "\n",
    "soma_sexo_valores = df_sexo_valores.sum()\n",
    "\n",
    "df_sexo_perc['%'] = df_sexo_perc['Sexo'] / soma_sexo_valores * 100\n",
    "\n",
    "print(df_sexo_perc)\n",
    "\n",
    "df_sexo_perc['Sexo'] = df_sexo_perc.index\n",
    "\n",
    "plt.figure(figsize = (10, 7))\n",
    "plt.rcParams['xtick.labelsize'] = 15\n",
    "plot = sns.barplot(data = df_sexo_perc, \n",
    "                    x = 'Sexo', y = '%', \n",
    "                    orient = 'v',\n",
    "                    palette = ['indigo','rebeccapurple','mediumpurple'])\n",
    "for i in plot.patches:\n",
    "    plot.annotate(format(i.get_height(), '.2f'),\n",
    "                (i.get_x() + i.get_width() / 2, i.get_height() + 0.7), \n",
    "                ha = 'center',\n",
    "                va = 'baseline',\n",
    "                fontsize = 12,\n",
    "                color = 'black',\n",
    "                xytext = (0, 1),\n",
    "                textcoords = 'offset points')\n",
    "plt.xlabel('')\n",
    "plt.ylabel('\\nPercentual\\n', fontsize = 15)\n",
    "plt.title('\\nPercentual de reclamações por Sexo\\n', fontsize = 20)\n",
    "M = mp.Patch(color = 'indigo', label = \"M - Masculino\")\n",
    "F = mp.Patch(color = 'rebeccapurple', label = \"F - Feminino\")\n",
    "O = mp.Patch(color = 'mediumpurple', label = \"O - Outros\")\n",
    "plt.legend(handles = [M,F,O], loc = 'upper right', bbox_to_anchor = (0.98, 0.96), fontsize = 14)\n",
    "plt.show(plot)\n"
   ]
  },
  {
   "cell_type": "markdown",
   "metadata": {},
   "source": [
    "\n",
    "Pessoas do **sexo masculino (M) respondem por mais da metade** das reclamações, 56,29%, superando a somatória dos outros grupos, feminino (F) e outros (O).\n"
   ]
  },
  {
   "cell_type": "markdown",
   "metadata": {},
   "source": [
    "## 3. Qual o número de reclamações por faixa etária?"
   ]
  },
  {
   "cell_type": "code",
   "execution_count": 44,
   "metadata": {},
   "outputs": [
    {
     "name": "stdout",
     "output_type": "stream",
     "text": [
      "                    Faixa Etária          %\n",
      "entre 31 a 40 anos         15992  31.944389\n",
      "entre 21 a 30 anos         11356  22.683872\n",
      "entre 41 a 50 anos          9895  19.765491\n",
      "entre 51 a 60 anos          6619  13.221605\n",
      "entre 61 a 70 anos          3958   7.906196\n",
      "mais de 70 anos             1658   3.311893\n",
      "até 20 anos                  584   1.166553\n",
      "                          Faixa Etária          %\n",
      "entre 31 a 40 anos  entre 31 a 40 anos  31.944389\n",
      "entre 21 a 30 anos  entre 21 a 30 anos  22.683872\n",
      "entre 41 a 50 anos  entre 41 a 50 anos  19.765491\n",
      "entre 51 a 60 anos  entre 51 a 60 anos  13.221605\n",
      "entre 61 a 70 anos  entre 61 a 70 anos   7.906196\n",
      "mais de 70 anos        mais de 70 anos   3.311893\n",
      "até 20 anos                até 20 anos   1.166553\n"
     ]
    },
    {
     "data": {
      "image/png": "[encoded data removed]",
      "text/plain": [
       "<Figure size 1152x720 with 1 Axes>"
      ]
     },
     "metadata": {
      "needs_background": "light"
     },
     "output_type": "display_data"
    }
   ],
   "source": [
    "df_faixa_valores = df['Faixa Etária'].value_counts()\n",
    "df_faixa_perc = pd.DataFrame(df_faixa_valores)\n",
    "\n",
    "soma_faixa_valores = df_faixa_valores.sum()\n",
    "\n",
    "df_faixa_perc['%'] = df_faixa_perc['Faixa Etária'] / soma_faixa_valores * 100\n",
    "\n",
    "print(df_faixa_perc)\n",
    "\n",
    "df_faixa_perc['Faixa Etária'] = df_faixa_perc.index\n",
    "\n",
    "plt.figure(figsize = (16, 10))\n",
    "plt.rcParams['xtick.labelsize'] = 12\n",
    "plt.rcParams['ytick.labelsize'] = 14\n",
    "plot = sns.barplot(data = df_faixa_perc, \n",
    "                    x = '%', y = 'Faixa Etária', \n",
    "                    orient = 'h',\n",
    "                    palette = ['royalblue'],\n",
    "                    order = ['mais de 70 anos',\n",
    "                            'entre 61 a 70 anos',\n",
    "                            'entre 51 a 60 anos',\n",
    "                            'entre 41 a 50 anos',\n",
    "                            'entre 31 a 40 anos',\n",
    "                            'entre 21 a 30 anos',\n",
    "                            'até 20 anos'])\n",
    "for i in plot.patches:\n",
    "    plot.annotate(format(i.get_width(), '.2f'),\n",
    "                (i.get_width() + 0.8, i.get_y() + i.get_height() / 2), \n",
    "                ha = 'center',\n",
    "                va = 'baseline',\n",
    "                fontsize = 12,\n",
    "                color = 'black',\n",
    "                xytext = (0, 1),\n",
    "                textcoords = 'offset points')\n",
    "plt.xlabel('\\nPercentual\\n', fontsize = 15)\n",
    "plt.ylabel('')\n",
    "plt.title('\\nPercentual de reclamações por Faixa Etária\\n', fontsize = 20)\n",
    "plt.show(plot)"
   ]
  },
  {
   "cell_type": "markdown",
   "metadata": {},
   "source": [
    "**A faixa etária com os maior percentual de reclamações está entre 31 a 40 anos (31,94%)**, sendo que se somarmos também entre 21 a 30 anos (22,68%) teriamos um percentual de **54.62% de reclamações concentradas apenas em duas faixas etárias** dentro de um conjunto de sete faixas de idade."
   ]
  },
  {
   "cell_type": "markdown",
   "metadata": {},
   "source": [
    "## 4. Qual a quantidade/percentual das reclamações por sexo/faixa etária?"
   ]
  },
  {
   "cell_type": "code",
   "execution_count": 46,
   "metadata": {},
   "outputs": [
    {
     "name": "stdout",
     "output_type": "stream",
     "text": [
      "                         Faixa Etária          %\n",
      "Sexo Faixa Etária                               \n",
      "F    entre 31 a 40 anos          6256  12.496504\n",
      "     entre 21 a 30 anos          4957   9.901722\n",
      "     entre 41 a 50 anos          4315   8.619312\n",
      "     entre 51 a 60 anos          3223   6.438017\n",
      "     entre 61 a 70 anos          2018   4.031002\n",
      "     mais de 70 anos              830   1.657944\n",
      "     até 20 anos                  255   0.509368\n",
      "M    entre 31 a 40 anos          9728  19.431904\n",
      "     entre 21 a 30 anos          6392  12.768167\n",
      "     entre 41 a 50 anos          5574  11.134194\n",
      "     entre 51 a 60 anos          3395   6.781591\n",
      "     entre 61 a 70 anos          1935   3.865207\n",
      "     mais de 70 anos              827   1.651952\n",
      "     até 20 anos                  327   0.653190\n",
      "O    entre 31 a 40 anos             8   0.015980\n",
      "     entre 21 a 30 anos             7   0.013983\n",
      "     entre 41 a 50 anos             6   0.011985\n",
      "     entre 61 a 70 anos             5   0.009988\n",
      "     até 20 anos                    2   0.003995\n",
      "     entre 51 a 60 anos             1   0.001998\n",
      "     mais de 70 anos                1   0.001998\n"
     ]
    }
   ],
   "source": [
    "df_sexo_faixa_valores = df.groupby('Sexo')['Faixa Etária'].value_counts()\n",
    "df_sexo_faixa_perc = pd.DataFrame(df_sexo_faixa_valores)\n",
    "\n",
    "soma_sexo_faixa_valores = df_sexo_faixa_valores.sum()\n",
    "\n",
    "df_sexo_faixa_perc['%'] = df_sexo_faixa_perc['Faixa Etária'] / soma_sexo_faixa_valores * 100\n",
    "\n",
    "print(df_sexo_faixa_perc)\n",
    "\n",
    "df_sexo_faixa_perc['Faixa Etária'] = df_sexo_faixa_perc.index\n"
   ]
  }
 ],
 "metadata": {
  "interpreter": {
   "hash": "ee5cc6fef2d70a7e71ee3826687cbd150f18158e0b1eef11d4f4f92bb920e304"
  },
  "kernelspec": {
   "display_name": "Python 3.9.0 64-bit",
   "name": "python3"
  },
  "language_info": {
   "codemirror_mode": {
    "name": "ipython",
    "version": 3
   },
   "file_extension": ".py",
   "mimetype": "text/x-python",
   "name": "python",
   "nbconvert_exporter": "python",
   "pygments_lexer": "ipython3",
   "version": "3.9.0"
  }
 },
 "nbformat": 4,
 "nbformat_minor": 4
}
