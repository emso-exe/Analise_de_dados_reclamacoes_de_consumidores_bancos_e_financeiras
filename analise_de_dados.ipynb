{
 "cells": [
  {
   "cell_type": "markdown",
   "source": [
    "# Análise de dados: Reclamações de consumidores com empresa de telecomunicações\r\n",
    "\r\n",
    "Neste projeto serão analisados os dados de reclamações de consumidores com uma empresa de telecomunicações no 1º semestre de 2021 são dados (.csv) reais extraídos do site [consumidor.gov.br](https://www.consumidor.gov.br) disponibilizados pelo [Portal de dados do Ministério da Justiça](http://dados.mj.gov.br/).\r\n",
    "\r\n",
    "## Demanda do negócio\r\n",
    "\r\n",
    "- Identificar público com maior insatisfação\r\n",
    "- Reduzir o número de reclamações\r\n",
    "- Reduzir o tempo para solução do problema\r\n",
    "- Obter a melhor nota em atendimento\r\n",
    "- Identificar o principal motivo de reclamação\r\n",
    "- Identificar o canal de atendimento com maior índice de insatisfação\r\n",
    "\r\n",
    "## Indagações a serem respondidas pela análise exploratória dos dados\r\n",
    "\r\n",
    "1. Qual o número de reclamações por estado?\r\n",
    "2. Qual o número de reclamações por sexo?\r\n",
    "3. Qual o número de reclamações por faixa etária?\r\n",
    "4. Qual a quantidade/percentual das reclamações por sexo/faixa etária?\r\n",
    "\r\n",
    "5. Qual a quantidade/percentual das reclamações por meio utilizado para contratação/aquisição?\r\n",
    "6. Qual a quantidade/percentual das reclamações por assunto?\r\n",
    "7. Qual a quantidade/percentual das reclamações por assunto/problema?\r\n",
    "8. Qual a quantidade/percentual das reclamações por assunto/contratação?\r\n",
    "\r\n",
    "9. Qual a quantidade/percentual de dias entre abertura de reclamações válidas e resposta?\r\n",
    "10. Qual a quantidade/percentual de dias entre abertura de reclamações contestadas e resposta?\r\n",
    "11. Qual o número/percentual de avaliação do consumidor?\r\n",
    "12. Qual a relação entre dias para resposta e avaliação do consumidor?\r\n",
    "\r\n",
    "13. Qual a quantidade/percentual das reclamações resolvidas, não resolvidas, não avaliadas e canceladas/encerradas?\r\n",
    "14. Qual o número/percentual de recusa de reclamações avaliadas como procedentes e improcedentes?"
   ],
   "metadata": {}
  },
  {
   "cell_type": "markdown",
   "source": [
    "## Importação de pacotes"
   ],
   "metadata": {}
  },
  {
   "cell_type": "code",
   "execution_count": 105,
   "source": [
    "import pandas as pd\r\n",
    "import matplotlib.pyplot as plt\r\n",
    "import seaborn as sns\r\n",
    "import glob\r\n"
   ],
   "outputs": [],
   "metadata": {}
  },
  {
   "cell_type": "markdown",
   "source": [
    "## Carregamento dos dados"
   ],
   "metadata": {}
  },
  {
   "cell_type": "code",
   "execution_count": 106,
   "source": [
    "# Atribuindo ao dataframe os arquivos csv no diretório dados\r\n",
    "\r\n",
    "lista_csv = glob.glob('dados/*.csv')\r\n",
    "\r\n",
    "converte_csv = lambda k: pd.read_csv(k, sep=';')\r\n",
    "\r\n",
    "df = pd.concat(map(converte_csv, lista_csv), ignore_index=True)"
   ],
   "outputs": [],
   "metadata": {}
  },
  {
   "cell_type": "markdown",
   "source": [
    "## Detalhes do dataframe"
   ],
   "metadata": {}
  },
  {
   "cell_type": "code",
   "execution_count": 107,
   "source": [
    "df.sample(10)"
   ],
   "outputs": [
    {
     "output_type": "execute_result",
     "data": {
      "text/html": [
       "<div>\n",
       "<style scoped>\n",
       "    .dataframe tbody tr th:only-of-type {\n",
       "        vertical-align: middle;\n",
       "    }\n",
       "\n",
       "    .dataframe tbody tr th {\n",
       "        vertical-align: top;\n",
       "    }\n",
       "\n",
       "    .dataframe thead th {\n",
       "        text-align: right;\n",
       "    }\n",
       "</style>\n",
       "<table border=\"1\" class=\"dataframe\">\n",
       "  <thead>\n",
       "    <tr style=\"text-align: right;\">\n",
       "      <th></th>\n",
       "      <th>Gestor</th>\n",
       "      <th>Canal de Origem</th>\n",
       "      <th>Região</th>\n",
       "      <th>UF</th>\n",
       "      <th>Cidade</th>\n",
       "      <th>Sexo</th>\n",
       "      <th>Faixa Etária</th>\n",
       "      <th>Ano Abertura</th>\n",
       "      <th>Mês Abertura</th>\n",
       "      <th>Data Abertura</th>\n",
       "      <th>...</th>\n",
       "      <th>Grupo Problema</th>\n",
       "      <th>Problema</th>\n",
       "      <th>Como Comprou Contratou</th>\n",
       "      <th>Procurou Empresa</th>\n",
       "      <th>Respondida</th>\n",
       "      <th>Situação</th>\n",
       "      <th>Avaliação Reclamação</th>\n",
       "      <th>Nota do Consumidor</th>\n",
       "      <th>Análise da Recusa</th>\n",
       "      <th>Grupo Econômico</th>\n",
       "    </tr>\n",
       "  </thead>\n",
       "  <tbody>\n",
       "    <tr>\n",
       "      <th>315231</th>\n",
       "      <td>Fundação de Proteção e Defesa do Consumidor</td>\n",
       "      <td>Plataforma Web</td>\n",
       "      <td>SE</td>\n",
       "      <td>SP</td>\n",
       "      <td>Cotia</td>\n",
       "      <td>F</td>\n",
       "      <td>entre 41 a 50 anos</td>\n",
       "      <td>2021.0</td>\n",
       "      <td>2.0</td>\n",
       "      <td>09/02/2021</td>\n",
       "      <td>...</td>\n",
       "      <td>Vício de Qualidade</td>\n",
       "      <td>Produto danificado / não funciona - Dificuldad...</td>\n",
       "      <td>Internet</td>\n",
       "      <td>S</td>\n",
       "      <td>S</td>\n",
       "      <td>Finalizada avaliada</td>\n",
       "      <td>Não Resolvida</td>\n",
       "      <td>1.0</td>\n",
       "      <td>NaN</td>\n",
       "      <td>NaN</td>\n",
       "    </tr>\n",
       "    <tr>\n",
       "      <th>206924</th>\n",
       "      <td>Departamento Estadual de Proteção e Defesa do ...</td>\n",
       "      <td>Plataforma Web</td>\n",
       "      <td>S</td>\n",
       "      <td>PR</td>\n",
       "      <td>Curitiba</td>\n",
       "      <td>M</td>\n",
       "      <td>mais de 70 anos</td>\n",
       "      <td>2021.0</td>\n",
       "      <td>2.0</td>\n",
       "      <td>01/02/2021</td>\n",
       "      <td>...</td>\n",
       "      <td>Cobrança / Contestação</td>\n",
       "      <td>Dificuldade / atraso na devolução de valores p...</td>\n",
       "      <td>Telefone</td>\n",
       "      <td>S</td>\n",
       "      <td>S</td>\n",
       "      <td>Finalizada avaliada</td>\n",
       "      <td>Resolvida</td>\n",
       "      <td>5.0</td>\n",
       "      <td>NaN</td>\n",
       "      <td>NaN</td>\n",
       "    </tr>\n",
       "    <tr>\n",
       "      <th>385275</th>\n",
       "      <td>Superintendência de Proteção e Defesa do Consu...</td>\n",
       "      <td>Plataforma Android</td>\n",
       "      <td>NE</td>\n",
       "      <td>BA</td>\n",
       "      <td>Salvador</td>\n",
       "      <td>M</td>\n",
       "      <td>entre 31 a 40 anos</td>\n",
       "      <td>2021.0</td>\n",
       "      <td>2.0</td>\n",
       "      <td>28/02/2021</td>\n",
       "      <td>...</td>\n",
       "      <td>Vício de Qualidade</td>\n",
       "      <td>Dificuldade na recarga de créditos (não inseri...</td>\n",
       "      <td>Internet</td>\n",
       "      <td>S</td>\n",
       "      <td>S</td>\n",
       "      <td>Finalizada não avaliada</td>\n",
       "      <td>Não Avaliada</td>\n",
       "      <td>NaN</td>\n",
       "      <td>NaN</td>\n",
       "      <td>NaN</td>\n",
       "    </tr>\n",
       "    <tr>\n",
       "      <th>243882</th>\n",
       "      <td>Fundação de Proteção e Defesa do Consumidor</td>\n",
       "      <td>Plataforma Web</td>\n",
       "      <td>SE</td>\n",
       "      <td>SP</td>\n",
       "      <td>São Paulo</td>\n",
       "      <td>M</td>\n",
       "      <td>entre 21 a 30 anos</td>\n",
       "      <td>2021.0</td>\n",
       "      <td>3.0</td>\n",
       "      <td>01/03/2021</td>\n",
       "      <td>...</td>\n",
       "      <td>Cobrança / Contestação</td>\n",
       "      <td>Cobrança após cancelamento do serviço</td>\n",
       "      <td>Domicílio</td>\n",
       "      <td>S</td>\n",
       "      <td>N</td>\n",
       "      <td>Cancelada</td>\n",
       "      <td>NaN</td>\n",
       "      <td>NaN</td>\n",
       "      <td>Procedente</td>\n",
       "      <td>NaN</td>\n",
       "    </tr>\n",
       "    <tr>\n",
       "      <th>229196</th>\n",
       "      <td>Secretaria Nacional do Consumidor</td>\n",
       "      <td>Plataforma Web</td>\n",
       "      <td>CO</td>\n",
       "      <td>DF</td>\n",
       "      <td>Brasília</td>\n",
       "      <td>M</td>\n",
       "      <td>entre 31 a 40 anos</td>\n",
       "      <td>2021.0</td>\n",
       "      <td>2.0</td>\n",
       "      <td>11/02/2021</td>\n",
       "      <td>...</td>\n",
       "      <td>Atendimento / SAC</td>\n",
       "      <td>SAC - Dificuldade para cancelar o serviço</td>\n",
       "      <td>Não comprei / contratei</td>\n",
       "      <td>S</td>\n",
       "      <td>S</td>\n",
       "      <td>Finalizada avaliada</td>\n",
       "      <td>Resolvida</td>\n",
       "      <td>5.0</td>\n",
       "      <td>NaN</td>\n",
       "      <td>NaN</td>\n",
       "    </tr>\n",
       "    <tr>\n",
       "      <th>75770</th>\n",
       "      <td>Fundação de Proteção e Defesa do Consumidor</td>\n",
       "      <td>Plataforma Web</td>\n",
       "      <td>SE</td>\n",
       "      <td>SP</td>\n",
       "      <td>São José do Rio Preto</td>\n",
       "      <td>F</td>\n",
       "      <td>entre 31 a 40 anos</td>\n",
       "      <td>2020.0</td>\n",
       "      <td>12.0</td>\n",
       "      <td>15/12/2020</td>\n",
       "      <td>...</td>\n",
       "      <td>Contrato / Oferta</td>\n",
       "      <td>Oferta não cumprida / serviço não fornecido/ v...</td>\n",
       "      <td>Não comprei / contratei</td>\n",
       "      <td>S</td>\n",
       "      <td>S</td>\n",
       "      <td>Finalizada não avaliada</td>\n",
       "      <td>Não Avaliada</td>\n",
       "      <td>NaN</td>\n",
       "      <td>Improcedente</td>\n",
       "      <td>NaN</td>\n",
       "    </tr>\n",
       "    <tr>\n",
       "      <th>129969</th>\n",
       "      <td>Fundação de Proteção e Defesa do Consumidor</td>\n",
       "      <td>Plataforma Web</td>\n",
       "      <td>SE</td>\n",
       "      <td>SP</td>\n",
       "      <td>São Paulo</td>\n",
       "      <td>F</td>\n",
       "      <td>entre 21 a 30 anos</td>\n",
       "      <td>2021.0</td>\n",
       "      <td>1.0</td>\n",
       "      <td>07/01/2021</td>\n",
       "      <td>...</td>\n",
       "      <td>Cobrança / Contestação</td>\n",
       "      <td>Cobrança indevida / abusiva para alterar ou ca...</td>\n",
       "      <td>Loja física</td>\n",
       "      <td>S</td>\n",
       "      <td>S</td>\n",
       "      <td>Finalizada não avaliada</td>\n",
       "      <td>Não Avaliada</td>\n",
       "      <td>NaN</td>\n",
       "      <td>NaN</td>\n",
       "      <td>NaN</td>\n",
       "    </tr>\n",
       "    <tr>\n",
       "      <th>379416</th>\n",
       "      <td>Secretaria Nacional do Consumidor</td>\n",
       "      <td>Plataforma Web</td>\n",
       "      <td>S</td>\n",
       "      <td>RS</td>\n",
       "      <td>São Borja</td>\n",
       "      <td>M</td>\n",
       "      <td>entre 51 a 60 anos</td>\n",
       "      <td>2021.0</td>\n",
       "      <td>1.0</td>\n",
       "      <td>27/01/2021</td>\n",
       "      <td>...</td>\n",
       "      <td>Cobrança / Contestação</td>\n",
       "      <td>Dificuldade / atraso na devolução de valores p...</td>\n",
       "      <td>Internet</td>\n",
       "      <td>S</td>\n",
       "      <td>S</td>\n",
       "      <td>Finalizada não avaliada</td>\n",
       "      <td>Não Avaliada</td>\n",
       "      <td>NaN</td>\n",
       "      <td>NaN</td>\n",
       "      <td>NaN</td>\n",
       "    </tr>\n",
       "    <tr>\n",
       "      <th>350423</th>\n",
       "      <td>Departamento Estadual de Proteção e Defesa do ...</td>\n",
       "      <td>Plataforma Web</td>\n",
       "      <td>S</td>\n",
       "      <td>PR</td>\n",
       "      <td>Doutor Camargo</td>\n",
       "      <td>F</td>\n",
       "      <td>entre 21 a 30 anos</td>\n",
       "      <td>2021.0</td>\n",
       "      <td>2.0</td>\n",
       "      <td>22/02/2021</td>\n",
       "      <td>...</td>\n",
       "      <td>Vício de Qualidade</td>\n",
       "      <td>Produto danificado / não funciona - Dificuldad...</td>\n",
       "      <td>Internet</td>\n",
       "      <td>S</td>\n",
       "      <td>N</td>\n",
       "      <td>Cancelada</td>\n",
       "      <td>NaN</td>\n",
       "      <td>NaN</td>\n",
       "      <td>Procedente</td>\n",
       "      <td>NaN</td>\n",
       "    </tr>\n",
       "    <tr>\n",
       "      <th>744239</th>\n",
       "      <td>Secretaria Nacional do Consumidor</td>\n",
       "      <td>Plataforma Web</td>\n",
       "      <td>N</td>\n",
       "      <td>PA</td>\n",
       "      <td>Belém</td>\n",
       "      <td>M</td>\n",
       "      <td>entre 31 a 40 anos</td>\n",
       "      <td>2021.0</td>\n",
       "      <td>6.0</td>\n",
       "      <td>06/06/2021</td>\n",
       "      <td>...</td>\n",
       "      <td>Cobrança / Contestação</td>\n",
       "      <td>Cobrança indevida / abusiva para alterar ou ca...</td>\n",
       "      <td>Telefone</td>\n",
       "      <td>S</td>\n",
       "      <td>S</td>\n",
       "      <td>Finalizada avaliada</td>\n",
       "      <td>Resolvida</td>\n",
       "      <td>4.0</td>\n",
       "      <td>NaN</td>\n",
       "      <td>OI</td>\n",
       "    </tr>\n",
       "  </tbody>\n",
       "</table>\n",
       "<p>10 rows × 31 columns</p>\n",
       "</div>"
      ],
      "text/plain": [
       "                                                   Gestor     Canal de Origem  \\\n",
       "315231        Fundação de Proteção e Defesa do Consumidor      Plataforma Web   \n",
       "206924  Departamento Estadual de Proteção e Defesa do ...      Plataforma Web   \n",
       "385275  Superintendência de Proteção e Defesa do Consu...  Plataforma Android   \n",
       "243882        Fundação de Proteção e Defesa do Consumidor      Plataforma Web   \n",
       "229196                  Secretaria Nacional do Consumidor      Plataforma Web   \n",
       "75770         Fundação de Proteção e Defesa do Consumidor      Plataforma Web   \n",
       "129969        Fundação de Proteção e Defesa do Consumidor      Plataforma Web   \n",
       "379416                  Secretaria Nacional do Consumidor      Plataforma Web   \n",
       "350423  Departamento Estadual de Proteção e Defesa do ...      Plataforma Web   \n",
       "744239                  Secretaria Nacional do Consumidor      Plataforma Web   \n",
       "\n",
       "       Região  UF                 Cidade Sexo        Faixa Etária  \\\n",
       "315231     SE  SP                  Cotia    F  entre 41 a 50 anos   \n",
       "206924     S   PR               Curitiba    M     mais de 70 anos   \n",
       "385275     NE  BA               Salvador    M  entre 31 a 40 anos   \n",
       "243882     SE  SP              São Paulo    M  entre 21 a 30 anos   \n",
       "229196     CO  DF               Brasília    M  entre 31 a 40 anos   \n",
       "75770      SE  SP  São José do Rio Preto    F  entre 31 a 40 anos   \n",
       "129969     SE  SP              São Paulo    F  entre 21 a 30 anos   \n",
       "379416     S   RS              São Borja    M  entre 51 a 60 anos   \n",
       "350423     S   PR         Doutor Camargo    F  entre 21 a 30 anos   \n",
       "744239     N   PA                  Belém    M  entre 31 a 40 anos   \n",
       "\n",
       "        Ano Abertura  Mês Abertura Data Abertura  ...          Grupo Problema  \\\n",
       "315231        2021.0           2.0    09/02/2021  ...      Vício de Qualidade   \n",
       "206924        2021.0           2.0    01/02/2021  ...  Cobrança / Contestação   \n",
       "385275        2021.0           2.0    28/02/2021  ...      Vício de Qualidade   \n",
       "243882        2021.0           3.0    01/03/2021  ...  Cobrança / Contestação   \n",
       "229196        2021.0           2.0    11/02/2021  ...       Atendimento / SAC   \n",
       "75770         2020.0          12.0    15/12/2020  ...       Contrato / Oferta   \n",
       "129969        2021.0           1.0    07/01/2021  ...  Cobrança / Contestação   \n",
       "379416        2021.0           1.0    27/01/2021  ...  Cobrança / Contestação   \n",
       "350423        2021.0           2.0    22/02/2021  ...      Vício de Qualidade   \n",
       "744239        2021.0           6.0    06/06/2021  ...  Cobrança / Contestação   \n",
       "\n",
       "                                                 Problema  \\\n",
       "315231  Produto danificado / não funciona - Dificuldad...   \n",
       "206924  Dificuldade / atraso na devolução de valores p...   \n",
       "385275  Dificuldade na recarga de créditos (não inseri...   \n",
       "243882              Cobrança após cancelamento do serviço   \n",
       "229196          SAC - Dificuldade para cancelar o serviço   \n",
       "75770   Oferta não cumprida / serviço não fornecido/ v...   \n",
       "129969  Cobrança indevida / abusiva para alterar ou ca...   \n",
       "379416  Dificuldade / atraso na devolução de valores p...   \n",
       "350423  Produto danificado / não funciona - Dificuldad...   \n",
       "744239  Cobrança indevida / abusiva para alterar ou ca...   \n",
       "\n",
       "         Como Comprou Contratou Procurou Empresa Respondida  \\\n",
       "315231                 Internet                S          S   \n",
       "206924                 Telefone                S          S   \n",
       "385275                 Internet                S          S   \n",
       "243882                Domicílio                S          N   \n",
       "229196  Não comprei / contratei                S          S   \n",
       "75770   Não comprei / contratei                S          S   \n",
       "129969              Loja física                S          S   \n",
       "379416                 Internet                S          S   \n",
       "350423                 Internet                S          N   \n",
       "744239                 Telefone                S          S   \n",
       "\n",
       "                       Situação  Avaliação Reclamação Nota do Consumidor  \\\n",
       "315231      Finalizada avaliada         Não Resolvida                1.0   \n",
       "206924      Finalizada avaliada             Resolvida                5.0   \n",
       "385275  Finalizada não avaliada          Não Avaliada                NaN   \n",
       "243882                Cancelada                   NaN                NaN   \n",
       "229196      Finalizada avaliada             Resolvida                5.0   \n",
       "75770   Finalizada não avaliada          Não Avaliada                NaN   \n",
       "129969  Finalizada não avaliada          Não Avaliada                NaN   \n",
       "379416  Finalizada não avaliada          Não Avaliada                NaN   \n",
       "350423                Cancelada                   NaN                NaN   \n",
       "744239      Finalizada avaliada             Resolvida                4.0   \n",
       "\n",
       "       Análise da Recusa Grupo Econômico  \n",
       "315231               NaN             NaN  \n",
       "206924               NaN             NaN  \n",
       "385275               NaN             NaN  \n",
       "243882        Procedente             NaN  \n",
       "229196               NaN             NaN  \n",
       "75770       Improcedente             NaN  \n",
       "129969               NaN             NaN  \n",
       "379416               NaN             NaN  \n",
       "350423        Procedente             NaN  \n",
       "744239               NaN              OI  \n",
       "\n",
       "[10 rows x 31 columns]"
      ]
     },
     "metadata": {},
     "execution_count": 107
    }
   ],
   "metadata": {}
  },
  {
   "cell_type": "code",
   "execution_count": 108,
   "source": [
    "df.columns"
   ],
   "outputs": [
    {
     "output_type": "execute_result",
     "data": {
      "text/plain": [
       "Index(['Gestor', 'Canal de Origem', 'Região', 'UF', 'Cidade', 'Sexo',\n",
       "       'Faixa Etária', 'Ano Abertura', 'Mês Abertura', 'Data Abertura',\n",
       "       'Data Resposta', 'Data Análise', 'Data Recusa', 'Data Finalização',\n",
       "       'Prazo Resposta', 'Prazo Analise Gestor', 'Tempo Resposta',\n",
       "       'Nome Fantasia', 'Segmento de Mercado', 'Área', 'Assunto',\n",
       "       'Grupo Problema', 'Problema', 'Como Comprou Contratou',\n",
       "       'Procurou Empresa', 'Respondida', 'Situação', 'Avaliação Reclamação',\n",
       "       'Nota do Consumidor', 'Análise da Recusa', 'Grupo Econômico'],\n",
       "      dtype='object')"
      ]
     },
     "metadata": {},
     "execution_count": 108
    }
   ],
   "metadata": {}
  },
  {
   "cell_type": "code",
   "execution_count": 109,
   "source": [
    "df.shape"
   ],
   "outputs": [
    {
     "output_type": "execute_result",
     "data": {
      "text/plain": [
       "(897662, 31)"
      ]
     },
     "metadata": {},
     "execution_count": 109
    }
   ],
   "metadata": {}
  },
  {
   "cell_type": "markdown",
   "source": [
    "## Seleção das linhas e colunas relevantes"
   ],
   "metadata": {}
  },
  {
   "cell_type": "code",
   "execution_count": 110,
   "source": [
    "# Selecionando a empresa alvo da análise\r\n",
    "\r\n",
    "df = df.loc[df['Nome Fantasia'] == 'Vivo - Telefônica']\r\n",
    "df.shape"
   ],
   "outputs": [
    {
     "output_type": "execute_result",
     "data": {
      "text/plain": [
       "(58278, 31)"
      ]
     },
     "metadata": {},
     "execution_count": 110
    }
   ],
   "metadata": {}
  },
  {
   "cell_type": "code",
   "execution_count": 111,
   "source": [
    "df = df.drop(columns=[\r\n",
    "    'Gestor','Região','Cidade','Ano Abertura','Data Análise','Data Recusa',\r\n",
    "    'Data Finalização','Prazo Resposta','Tempo Resposta','Grupo Econômico',\r\n",
    "    'Prazo Analise Gestor','Nome Fantasia','Segmento de Mercado',\r\n",
    "    'Procurou Empresa','Respondida'])\r\n",
    "df.shape"
   ],
   "outputs": [
    {
     "output_type": "execute_result",
     "data": {
      "text/plain": [
       "(58278, 16)"
      ]
     },
     "metadata": {},
     "execution_count": 111
    }
   ],
   "metadata": {}
  },
  {
   "cell_type": "code",
   "execution_count": 112,
   "source": [
    "df.info()"
   ],
   "outputs": [
    {
     "output_type": "stream",
     "name": "stdout",
     "text": [
      "<class 'pandas.core.frame.DataFrame'>\n",
      "Int64Index: 58278 entries, 30 to 897598\n",
      "Data columns (total 16 columns):\n",
      " #   Column                  Non-Null Count  Dtype  \n",
      "---  ------                  --------------  -----  \n",
      " 0   Canal de Origem         58278 non-null  object \n",
      " 1   UF                      58278 non-null  object \n",
      " 2   Sexo                    58274 non-null  object \n",
      " 3   Faixa Etária            58278 non-null  object \n",
      " 4   Mês Abertura            58278 non-null  float64\n",
      " 5   Data Abertura           58278 non-null  object \n",
      " 6   Data Resposta           51396 non-null  object \n",
      " 7   Área                    58278 non-null  object \n",
      " 8   Assunto                 58278 non-null  object \n",
      " 9   Grupo Problema          58278 non-null  object \n",
      " 10  Problema                58278 non-null  object \n",
      " 11  Como Comprou Contratou  58278 non-null  object \n",
      " 12  Situação                58278 non-null  object \n",
      " 13  Avaliação Reclamação    51387 non-null  object \n",
      " 14  Nota do Consumidor      31028 non-null  float64\n",
      " 15  Análise da Recusa       7848 non-null   object \n",
      "dtypes: float64(2), object(14)\n",
      "memory usage: 7.6+ MB\n"
     ]
    }
   ],
   "metadata": {}
  },
  {
   "cell_type": "code",
   "execution_count": 113,
   "source": [
    "# Será considerado apenas as reclamações abertas entre janeiro e junho\r\n",
    "# meses anteriores e posteriores ao período serão excluídos.\r\n",
    "\r\n",
    "print(df['Mês Abertura'].unique())\r\n",
    "\r\n",
    "df_remover = df.loc[\r\n",
    "    (df['Mês Abertura'] == 11) | \r\n",
    "    (df['Mês Abertura'] == 12) | \r\n",
    "    (df['Mês Abertura'] == 7)\r\n",
    "    ]\r\n",
    "\r\n",
    "df = df.drop(df_remover.index)\r\n",
    "\r\n",
    "print(df['Mês Abertura'].unique())"
   ],
   "outputs": [
    {
     "output_type": "stream",
     "name": "stdout",
     "text": [
      "[ 1. 11. 12.  2.  3.  4.  5.  6.  7.]\n",
      "[1. 2. 3. 4. 5. 6.]\n"
     ]
    }
   ],
   "metadata": {}
  },
  {
   "cell_type": "markdown",
   "source": [
    "## Tratando valores nulos"
   ],
   "metadata": {}
  },
  {
   "cell_type": "code",
   "execution_count": 114,
   "source": [
    "df.isnull().sum()"
   ],
   "outputs": [
    {
     "output_type": "execute_result",
     "data": {
      "text/plain": [
       "Canal de Origem               0\n",
       "UF                            0\n",
       "Sexo                          4\n",
       "Faixa Etária                  0\n",
       "Mês Abertura                  0\n",
       "Data Abertura                 0\n",
       "Data Resposta              6015\n",
       "Área                          0\n",
       "Assunto                       0\n",
       "Grupo Problema                0\n",
       "Problema                      0\n",
       "Como Comprou Contratou        0\n",
       "Situação                      0\n",
       "Avaliação Reclamação       6023\n",
       "Nota do Consumidor        23484\n",
       "Análise da Recusa         43220\n",
       "dtype: int64"
      ]
     },
     "metadata": {},
     "execution_count": 114
    }
   ],
   "metadata": {}
  },
  {
   "cell_type": "code",
   "execution_count": 115,
   "source": [
    "# Quando nulo será considerado \"O\" outros.\r\n",
    "\r\n",
    "print(df['Sexo'].unique())\r\n",
    "df['Sexo'].fillna('O', inplace=True)\r\n",
    "print(df['Sexo'].unique())\r\n",
    "df['Sexo'].isnull().sum()"
   ],
   "outputs": [
    {
     "output_type": "stream",
     "name": "stdout",
     "text": [
      "['M' 'F' 'O' nan]\n",
      "['M' 'F' 'O']\n"
     ]
    },
    {
     "output_type": "execute_result",
     "data": {
      "text/plain": [
       "0"
      ]
     },
     "metadata": {},
     "execution_count": 115
    }
   ],
   "metadata": {}
  },
  {
   "cell_type": "code",
   "execution_count": 116,
   "source": [
    "# Quando nulo é referente a reclamações canceladas por serem improcedentes \r\n",
    "# ou encerradas quando não avaliadas em tempo hábil pelo orgão gestor de reclamações.\r\n",
    "\r\n",
    "print(df['Data Resposta'].sample(10))\r\n",
    "df['Data Resposta'].isnull().count()"
   ],
   "outputs": [
    {
     "output_type": "stream",
     "name": "stdout",
     "text": [
      "523000    13/04/2021\n",
      "548853    23/04/2021\n",
      "574173    30/04/2021\n",
      "205751           NaN\n",
      "805235    24/06/2021\n",
      "604109           NaN\n",
      "460199    06/04/2021\n",
      "205315    09/02/2021\n",
      "533137    15/04/2021\n",
      "290855    30/03/2021\n",
      "Name: Data Resposta, dtype: object\n"
     ]
    },
    {
     "output_type": "execute_result",
     "data": {
      "text/plain": [
       "50062"
      ]
     },
     "metadata": {},
     "execution_count": 116
    }
   ],
   "metadata": {}
  },
  {
   "cell_type": "code",
   "execution_count": 117,
   "source": [
    "# Quando nulo as reclamações foram canceladas por serem improcedentes\r\n",
    "# ou encerradas quando não avaliadas em tempo hábil pelo orgão gestor de reclamações.\r\n",
    "# Quando nulo será considerado o valor correspondente da coluna 'Situação'.\r\n",
    "\r\n",
    "print(df['Avaliação Reclamação'].unique()) \r\n",
    "df.loc[df['Avaliação Reclamação'].isnull(), 'Avaliação Reclamação'] = df['Situação']\r\n",
    "print(df['Avaliação Reclamação'].unique()) \r\n",
    "df['Avaliação Reclamação'].isnull().sum()\r\n"
   ],
   "outputs": [
    {
     "output_type": "stream",
     "name": "stdout",
     "text": [
      "['Resolvida' nan 'Não Avaliada' 'Não Resolvida']\n",
      "['Resolvida' 'Cancelada' 'Não Avaliada' 'Não Resolvida' 'Encerrada']\n"
     ]
    },
    {
     "output_type": "execute_result",
     "data": {
      "text/plain": [
       "0"
      ]
     },
     "metadata": {},
     "execution_count": 117
    }
   ],
   "metadata": {}
  },
  {
   "cell_type": "code",
   "execution_count": 118,
   "source": [
    "# Quando nulo as reclamações foram canceladas por serem improcedentes\r\n",
    "# ou encerradas quando não avaliadas em tempo hábil pelo orgão gestor de reclamações.\r\n",
    "# Quando nulo será considerado 0 \"zero\".\r\n",
    "\r\n",
    "print(df['Nota do Consumidor'].unique())\r\n",
    "df['Nota do Consumidor'].fillna(0, inplace=True)\r\n",
    "print(df['Nota do Consumidor'].unique())\r\n",
    "df['Nota do Consumidor'].isnull().sum()"
   ],
   "outputs": [
    {
     "output_type": "stream",
     "name": "stdout",
     "text": [
      "[ 5. nan  4.  3.  1.  2.]\n",
      "[5. 0. 4. 3. 1. 2.]\n"
     ]
    },
    {
     "output_type": "execute_result",
     "data": {
      "text/plain": [
       "0"
      ]
     },
     "metadata": {},
     "execution_count": 118
    }
   ],
   "metadata": {}
  },
  {
   "cell_type": "code",
   "execution_count": 119,
   "source": [
    "# Quando nulo não houve recusa da reclamação pela empresa reclamada.\r\n",
    "\r\n",
    "print(df['Análise da Recusa'].unique())\r\n",
    "df['Análise da Recusa'].isnull().sum()"
   ],
   "outputs": [
    {
     "output_type": "stream",
     "name": "stdout",
     "text": [
      "[nan 'Procedente' 'Encerrada' 'Improcedente']\n"
     ]
    },
    {
     "output_type": "execute_result",
     "data": {
      "text/plain": [
       "43220"
      ]
     },
     "metadata": {},
     "execution_count": 119
    }
   ],
   "metadata": {}
  },
  {
   "cell_type": "markdown",
   "source": [
    "## Tratando os tipos de valores"
   ],
   "metadata": {}
  },
  {
   "cell_type": "code",
   "execution_count": 120,
   "source": [
    "df.dtypes"
   ],
   "outputs": [
    {
     "output_type": "execute_result",
     "data": {
      "text/plain": [
       "Canal de Origem            object\n",
       "UF                         object\n",
       "Sexo                       object\n",
       "Faixa Etária               object\n",
       "Mês Abertura              float64\n",
       "Data Abertura              object\n",
       "Data Resposta              object\n",
       "Área                       object\n",
       "Assunto                    object\n",
       "Grupo Problema             object\n",
       "Problema                   object\n",
       "Como Comprou Contratou     object\n",
       "Situação                   object\n",
       "Avaliação Reclamação       object\n",
       "Nota do Consumidor        float64\n",
       "Análise da Recusa          object\n",
       "dtype: object"
      ]
     },
     "metadata": {},
     "execution_count": 120
    }
   ],
   "metadata": {}
  },
  {
   "cell_type": "code",
   "execution_count": 121,
   "source": [
    "df['Mês Abertura'] = df['Mês Abertura'].astype('int8', errors='ignore')\r\n",
    "df['Data Abertura'] = pd.to_datetime(df['Data Abertura'], format='%d/%m/%Y')\r\n",
    "df['Data Resposta'] = pd.to_datetime(df['Data Resposta'], format='%d/%m/%Y')\r\n",
    "df['Nota do Consumidor'] = df['Nota do Consumidor'].astype('int8', errors='ignore')\r\n",
    "\r\n",
    "df.info()"
   ],
   "outputs": [
    {
     "output_type": "stream",
     "name": "stdout",
     "text": [
      "<class 'pandas.core.frame.DataFrame'>\n",
      "Int64Index: 50062 entries, 30 to 854051\n",
      "Data columns (total 16 columns):\n",
      " #   Column                  Non-Null Count  Dtype         \n",
      "---  ------                  --------------  -----         \n",
      " 0   Canal de Origem         50062 non-null  object        \n",
      " 1   UF                      50062 non-null  object        \n",
      " 2   Sexo                    50062 non-null  object        \n",
      " 3   Faixa Etária            50062 non-null  object        \n",
      " 4   Mês Abertura            50062 non-null  int8          \n",
      " 5   Data Abertura           50062 non-null  datetime64[ns]\n",
      " 6   Data Resposta           44047 non-null  datetime64[ns]\n",
      " 7   Área                    50062 non-null  object        \n",
      " 8   Assunto                 50062 non-null  object        \n",
      " 9   Grupo Problema          50062 non-null  object        \n",
      " 10  Problema                50062 non-null  object        \n",
      " 11  Como Comprou Contratou  50062 non-null  object        \n",
      " 12  Situação                50062 non-null  object        \n",
      " 13  Avaliação Reclamação    50062 non-null  object        \n",
      " 14  Nota do Consumidor      50062 non-null  int8          \n",
      " 15  Análise da Recusa       6842 non-null   object        \n",
      "dtypes: datetime64[ns](2), int8(2), object(12)\n",
      "memory usage: 6.8+ MB\n"
     ]
    }
   ],
   "metadata": {}
  },
  {
   "cell_type": "code",
   "execution_count": 122,
   "source": [
    "df.count()"
   ],
   "outputs": [
    {
     "output_type": "execute_result",
     "data": {
      "text/plain": [
       "Canal de Origem           50062\n",
       "UF                        50062\n",
       "Sexo                      50062\n",
       "Faixa Etária              50062\n",
       "Mês Abertura              50062\n",
       "Data Abertura             50062\n",
       "Data Resposta             44047\n",
       "Área                      50062\n",
       "Assunto                   50062\n",
       "Grupo Problema            50062\n",
       "Problema                  50062\n",
       "Como Comprou Contratou    50062\n",
       "Situação                  50062\n",
       "Avaliação Reclamação      50062\n",
       "Nota do Consumidor        50062\n",
       "Análise da Recusa          6842\n",
       "dtype: int64"
      ]
     },
     "metadata": {},
     "execution_count": 122
    }
   ],
   "metadata": {}
  },
  {
   "cell_type": "markdown",
   "source": [
    "## 1. Qual o número de reclamações por estado?"
   ],
   "metadata": {}
  },
  {
   "cell_type": "code",
   "execution_count": 123,
   "source": [
    "df_uf_valores = df['UF'].value_counts()\r\n",
    "df_uf_perc = pd.DataFrame(df_uf_valores)\r\n",
    "\r\n",
    "soma_uf_valores = df_uf_valores.sum()\r\n",
    "\r\n",
    "# calcular porcentagens\r\n",
    "df_uf_perc['%'] = df_uf_perc['UF'] / soma_uf_valores * 100\r\n",
    "\r\n",
    "print(df_uf_perc)\r\n",
    "\r\n",
    "plt.figure(figsize = (20, 10))\r\n",
    "sns.barplot(x = df_uf_perc.index, y = df_uf_perc['%'], orient = \"v\", palette = \"plasma\")\r\n",
    "plt.xlabel('\\nEstados', fontsize = 15)\r\n",
    "plt.ylabel('\\nPercentual\\n', fontsize = 15)\r\n",
    "plt.title('\\nPercentual de reclamações por Estado\\n', fontsize = 20)\r\n",
    "plt.show()"
   ],
   "outputs": [
    {
     "output_type": "stream",
     "name": "stdout",
     "text": [
      "       UF          %\n",
      "SP  12695  25.358555\n",
      "RS  10821  21.615197\n",
      "MG   4871   9.729935\n",
      "PR   4226   8.441532\n",
      "RJ   2735   5.463226\n",
      "ES   2237   4.468459\n",
      "BA   2030   4.054972\n",
      "DF   1779   3.553594\n",
      "SC   1767   3.529623\n",
      "GO   1480   2.956334\n",
      "MT    978   1.953578\n",
      "PE    774   1.546083\n",
      "CE    617   1.232472\n",
      "AM    457   0.912868\n",
      "PB    393   0.785027\n",
      "MA    388   0.775039\n",
      "MS    381   0.761056\n",
      "PA    328   0.655188\n",
      "SE    266   0.531341\n",
      "PI    227   0.453438\n",
      "AC    141   0.281651\n",
      "AL    116   0.231713\n",
      "RO     97   0.193760\n",
      "RN     94   0.187767\n",
      "TO     91   0.181775\n",
      "AP     42   0.083896\n",
      "RR     31   0.061923\n"
     ]
    },
    {
     "output_type": "display_data",
     "data": {
      "image/png": "[encoded data removed]",
      "text/plain": [
       "<Figure size 1440x720 with 1 Axes>"
      ]
     },
     "metadata": {
      "needs_background": "light"
     }
    }
   ],
   "metadata": {}
  },
  {
   "cell_type": "markdown",
   "source": [
    "## 2. Qual o número de reclamações por sexo?"
   ],
   "metadata": {}
  },
  {
   "cell_type": "code",
   "execution_count": null,
   "source": [],
   "outputs": [],
   "metadata": {}
  },
  {
   "cell_type": "markdown",
   "source": [
    "## 3. Qual o número de reclamações por faixa etária?"
   ],
   "metadata": {}
  },
  {
   "cell_type": "code",
   "execution_count": null,
   "source": [],
   "outputs": [],
   "metadata": {}
  }
 ],
 "metadata": {
  "interpreter": {
   "hash": "ee5cc6fef2d70a7e71ee3826687cbd150f18158e0b1eef11d4f4f92bb920e304"
  },
  "kernelspec": {
   "name": "python3",
   "display_name": "Python 3.9.0 64-bit"
  },
  "language_info": {
   "codemirror_mode": {
    "name": "ipython",
    "version": 3
   },
   "file_extension": ".py",
   "mimetype": "text/x-python",
   "name": "python",
   "nbconvert_exporter": "python",
   "pygments_lexer": "ipython3",
   "version": "3.9.0"
  }
 },
 "nbformat": 4,
 "nbformat_minor": 4
}