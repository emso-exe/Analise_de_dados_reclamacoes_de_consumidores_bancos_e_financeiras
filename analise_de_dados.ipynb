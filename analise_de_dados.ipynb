{
 "cells": [
  {
   "cell_type": "markdown",
   "source": [
    "# Análise de dados: Reclamações de consumidores com empresa de telecomunicações\r\n",
    "\r\n",
    "Neste projeto serão analisados os dados de reclamações de consumidores com uma empresa de telecomunicações no 1º semestre de 2021 são dados (.csv) reais extraídos do site [consumidor.gov.br](https://www.consumidor.gov.br) disponibilizados pelo [Portal de dados do Ministério da Justiça](http://dados.mj.gov.br/).\r\n",
    "\r\n",
    "## Demanda do negócio\r\n",
    "\r\n",
    "- Identificar público com maior insatisfação\r\n",
    "- Reduzir o número de reclamações\r\n",
    "- Reduzir o tempo para solução do problema\r\n",
    "- Obter a melhor nota em atendimento\r\n",
    "- Identificar o principal motivo de reclamação\r\n",
    "- Identificar o canal de atendimento com maior índice de insatisfação\r\n",
    "\r\n",
    "## Indagações a serem respondidas pela análise exploratória dos dados\r\n",
    "\r\n",
    "1. Qual o número de reclamações por estado?\r\n",
    "2. Qual o número de reclamações por sexo?\r\n",
    "3. Qual o número de reclamações por faixa etária?\r\n",
    "4. Qual a quantidade/percentual das reclamações por sexo/faixa etária?\r\n",
    "\r\n",
    "5. Qual a quantidade/percentual das reclamações por meio utilizado para contratação/aquisição?\r\n",
    "6. Qual a quantidade/percentual das reclamações por assunto?\r\n",
    "7. Qual a quantidade/percentual das reclamações por assunto/problema?\r\n",
    "8. Qual a quantidade/percentual das reclamações por assunto/contratação?\r\n",
    "\r\n",
    "9. Qual a quantidade/percentual de dias entre abertura de reclamações válidas e resposta?\r\n",
    "10. Qual a quantidade/percentual de dias entre abertura de reclamações contestadas e resposta?\r\n",
    "11. Qual o número/percentual de avaliação do consumidor?\r\n",
    "12. Qual a relação entre dias para resposta e avaliação do consumidor?\r\n",
    "\r\n",
    "13. Qual a quantidade/percentual das reclamações resolvidas, não resolvidas, não avaliadas e canceladas/encerradas?\r\n",
    "14. Qual o número/percentual de recusa de reclamações avaliadas como procedentes e improcedentes?"
   ],
   "metadata": {}
  },
  {
   "cell_type": "markdown",
   "source": [
    "## Importação de pacotes"
   ],
   "metadata": {}
  },
  {
   "cell_type": "code",
   "execution_count": 40,
   "source": [
    "import pandas as pd\r\n",
    "import matplotlib.pyplot as plt\r\n",
    "import seaborn as sns\r\n",
    "import glob\r\n"
   ],
   "outputs": [],
   "metadata": {}
  },
  {
   "cell_type": "markdown",
   "source": [
    "## Carregamento dos dados"
   ],
   "metadata": {}
  },
  {
   "cell_type": "code",
   "execution_count": 41,
   "source": [
    "# Atribuindo ao dataframe os arquivos csv no diretório dados\r\n",
    "\r\n",
    "lista_csv = glob.glob('dados/*.csv')\r\n",
    "\r\n",
    "converte_csv = lambda k: pd.read_csv(k, sep=';')\r\n",
    "\r\n",
    "df = pd.concat(map(converte_csv, lista_csv), ignore_index=True)"
   ],
   "outputs": [],
   "metadata": {}
  },
  {
   "cell_type": "markdown",
   "source": [
    "## Detalhes do dataframe"
   ],
   "metadata": {}
  },
  {
   "cell_type": "code",
   "execution_count": 42,
   "source": [
    "df.sample(10)"
   ],
   "outputs": [
    {
     "output_type": "execute_result",
     "data": {
      "text/html": [
       "<div>\n",
       "<style scoped>\n",
       "    .dataframe tbody tr th:only-of-type {\n",
       "        vertical-align: middle;\n",
       "    }\n",
       "\n",
       "    .dataframe tbody tr th {\n",
       "        vertical-align: top;\n",
       "    }\n",
       "\n",
       "    .dataframe thead th {\n",
       "        text-align: right;\n",
       "    }\n",
       "</style>\n",
       "<table border=\"1\" class=\"dataframe\">\n",
       "  <thead>\n",
       "    <tr style=\"text-align: right;\">\n",
       "      <th></th>\n",
       "      <th>Gestor</th>\n",
       "      <th>Canal de Origem</th>\n",
       "      <th>Região</th>\n",
       "      <th>UF</th>\n",
       "      <th>Cidade</th>\n",
       "      <th>Sexo</th>\n",
       "      <th>Faixa Etária</th>\n",
       "      <th>Ano Abertura</th>\n",
       "      <th>Mês Abertura</th>\n",
       "      <th>Data Abertura</th>\n",
       "      <th>...</th>\n",
       "      <th>Grupo Problema</th>\n",
       "      <th>Problema</th>\n",
       "      <th>Como Comprou Contratou</th>\n",
       "      <th>Procurou Empresa</th>\n",
       "      <th>Respondida</th>\n",
       "      <th>Situação</th>\n",
       "      <th>Avaliação Reclamação</th>\n",
       "      <th>Nota do Consumidor</th>\n",
       "      <th>Análise da Recusa</th>\n",
       "      <th>Grupo Econômico</th>\n",
       "    </tr>\n",
       "  </thead>\n",
       "  <tbody>\n",
       "    <tr>\n",
       "      <th>896541</th>\n",
       "      <td>Departamento Estadual de Proteção e Defesa do ...</td>\n",
       "      <td>Plataforma Web</td>\n",
       "      <td>S</td>\n",
       "      <td>PR</td>\n",
       "      <td>Curitiba</td>\n",
       "      <td>M</td>\n",
       "      <td>entre 31 a 40 anos</td>\n",
       "      <td>2021.0</td>\n",
       "      <td>7.0</td>\n",
       "      <td>26/07/2021</td>\n",
       "      <td>...</td>\n",
       "      <td>Cobrança / Contestação</td>\n",
       "      <td>Cobrança indevida / abusiva para alterar ou ca...</td>\n",
       "      <td>Telefone</td>\n",
       "      <td>N</td>\n",
       "      <td>N</td>\n",
       "      <td>Cancelada</td>\n",
       "      <td>NaN</td>\n",
       "      <td>NaN</td>\n",
       "      <td>Procedente</td>\n",
       "      <td>NaN</td>\n",
       "    </tr>\n",
       "    <tr>\n",
       "      <th>689927</th>\n",
       "      <td>Secretaria Nacional do Consumidor</td>\n",
       "      <td>Plataforma Web</td>\n",
       "      <td>NE</td>\n",
       "      <td>MA</td>\n",
       "      <td>Paço do Lumiar</td>\n",
       "      <td>F</td>\n",
       "      <td>entre 41 a 50 anos</td>\n",
       "      <td>2021.0</td>\n",
       "      <td>5.0</td>\n",
       "      <td>19/05/2021</td>\n",
       "      <td>...</td>\n",
       "      <td>Cobrança / Contestação</td>\n",
       "      <td>Cobrança por Irregularidade ou defeito na medição</td>\n",
       "      <td>Loja física</td>\n",
       "      <td>S</td>\n",
       "      <td>S</td>\n",
       "      <td>Finalizada não avaliada</td>\n",
       "      <td>Não Avaliada</td>\n",
       "      <td>NaN</td>\n",
       "      <td>NaN</td>\n",
       "      <td>Equatorial Energia</td>\n",
       "    </tr>\n",
       "    <tr>\n",
       "      <th>836464</th>\n",
       "      <td>Secretaria de Estado da Justiça e Cidadania de...</td>\n",
       "      <td>Plataforma Web</td>\n",
       "      <td>S</td>\n",
       "      <td>SC</td>\n",
       "      <td>Joinville</td>\n",
       "      <td>M</td>\n",
       "      <td>entre 51 a 60 anos</td>\n",
       "      <td>2021.0</td>\n",
       "      <td>6.0</td>\n",
       "      <td>25/06/2021</td>\n",
       "      <td>...</td>\n",
       "      <td>Contrato / Oferta</td>\n",
       "      <td>Não entrega do contrato ou documentação relaci...</td>\n",
       "      <td>Não comprei / contratei</td>\n",
       "      <td>S</td>\n",
       "      <td>N</td>\n",
       "      <td>Cancelada</td>\n",
       "      <td>NaN</td>\n",
       "      <td>NaN</td>\n",
       "      <td>Procedente</td>\n",
       "      <td>NaN</td>\n",
       "    </tr>\n",
       "    <tr>\n",
       "      <th>648264</th>\n",
       "      <td>Fundação de Proteção e Defesa do Consumidor</td>\n",
       "      <td>Plataforma Web</td>\n",
       "      <td>SE</td>\n",
       "      <td>SP</td>\n",
       "      <td>São Paulo</td>\n",
       "      <td>M</td>\n",
       "      <td>entre 21 a 30 anos</td>\n",
       "      <td>2021.0</td>\n",
       "      <td>5.0</td>\n",
       "      <td>02/05/2021</td>\n",
       "      <td>...</td>\n",
       "      <td>Cobrança / Contestação</td>\n",
       "      <td>Cobrança submetendo a ofensa, constrangimento ...</td>\n",
       "      <td>Loja física</td>\n",
       "      <td>S</td>\n",
       "      <td>S</td>\n",
       "      <td>Finalizada não avaliada</td>\n",
       "      <td>Não Avaliada</td>\n",
       "      <td>NaN</td>\n",
       "      <td>NaN</td>\n",
       "      <td>NaN</td>\n",
       "    </tr>\n",
       "    <tr>\n",
       "      <th>481251</th>\n",
       "      <td>Fundação de Proteção e Defesa do Consumidor</td>\n",
       "      <td>Plataforma Web</td>\n",
       "      <td>SE</td>\n",
       "      <td>SP</td>\n",
       "      <td>Capivari</td>\n",
       "      <td>M</td>\n",
       "      <td>entre 31 a 40 anos</td>\n",
       "      <td>2021.0</td>\n",
       "      <td>4.0</td>\n",
       "      <td>04/04/2021</td>\n",
       "      <td>...</td>\n",
       "      <td>Contrato / Oferta</td>\n",
       "      <td>Dificuldade para contratar / recusa injustificada</td>\n",
       "      <td>Não comprei / contratei</td>\n",
       "      <td>S</td>\n",
       "      <td>S</td>\n",
       "      <td>Finalizada avaliada</td>\n",
       "      <td>Não Resolvida</td>\n",
       "      <td>2.0</td>\n",
       "      <td>NaN</td>\n",
       "      <td>Mercado Livre</td>\n",
       "    </tr>\n",
       "    <tr>\n",
       "      <th>181735</th>\n",
       "      <td>Departamento Estadual de Proteção e Defesa do ...</td>\n",
       "      <td>Plataforma Web</td>\n",
       "      <td>S</td>\n",
       "      <td>PR</td>\n",
       "      <td>Ribeirão Claro</td>\n",
       "      <td>F</td>\n",
       "      <td>entre 21 a 30 anos</td>\n",
       "      <td>2021.0</td>\n",
       "      <td>1.0</td>\n",
       "      <td>25/01/2021</td>\n",
       "      <td>...</td>\n",
       "      <td>Atendimento / SAC</td>\n",
       "      <td>Má qualidade no atendimento (descortesia / des...</td>\n",
       "      <td>Internet</td>\n",
       "      <td>S</td>\n",
       "      <td>S</td>\n",
       "      <td>Finalizada não avaliada</td>\n",
       "      <td>Não Avaliada</td>\n",
       "      <td>NaN</td>\n",
       "      <td>NaN</td>\n",
       "      <td>NaN</td>\n",
       "    </tr>\n",
       "    <tr>\n",
       "      <th>301217</th>\n",
       "      <td>Fundação de Proteção e Defesa do Consumidor</td>\n",
       "      <td>Plataforma Web</td>\n",
       "      <td>SE</td>\n",
       "      <td>SP</td>\n",
       "      <td>Boituva</td>\n",
       "      <td>F</td>\n",
       "      <td>entre 31 a 40 anos</td>\n",
       "      <td>2021.0</td>\n",
       "      <td>2.0</td>\n",
       "      <td>03/02/2021</td>\n",
       "      <td>...</td>\n",
       "      <td>Vício de Qualidade</td>\n",
       "      <td>Falta de peça de reposição</td>\n",
       "      <td>Internet</td>\n",
       "      <td>S</td>\n",
       "      <td>S</td>\n",
       "      <td>Finalizada avaliada</td>\n",
       "      <td>Não Resolvida</td>\n",
       "      <td>1.0</td>\n",
       "      <td>NaN</td>\n",
       "      <td>NaN</td>\n",
       "    </tr>\n",
       "    <tr>\n",
       "      <th>687331</th>\n",
       "      <td>Fundação de Proteção e Defesa do Consumidor</td>\n",
       "      <td>Plataforma Web</td>\n",
       "      <td>SE</td>\n",
       "      <td>SP</td>\n",
       "      <td>Votorantim</td>\n",
       "      <td>F</td>\n",
       "      <td>entre 31 a 40 anos</td>\n",
       "      <td>2021.0</td>\n",
       "      <td>5.0</td>\n",
       "      <td>19/05/2021</td>\n",
       "      <td>...</td>\n",
       "      <td>Cobrança / Contestação</td>\n",
       "      <td>Cobrança em duplicidade / Cobrança referente a...</td>\n",
       "      <td>Telefone</td>\n",
       "      <td>S</td>\n",
       "      <td>S</td>\n",
       "      <td>Finalizada avaliada</td>\n",
       "      <td>Resolvida</td>\n",
       "      <td>5.0</td>\n",
       "      <td>NaN</td>\n",
       "      <td>Vivo</td>\n",
       "    </tr>\n",
       "    <tr>\n",
       "      <th>219888</th>\n",
       "      <td>Secretaria Nacional do Consumidor</td>\n",
       "      <td>Plataforma Web</td>\n",
       "      <td>NE</td>\n",
       "      <td>AL</td>\n",
       "      <td>Maceió</td>\n",
       "      <td>F</td>\n",
       "      <td>entre 31 a 40 anos</td>\n",
       "      <td>2021.0</td>\n",
       "      <td>2.0</td>\n",
       "      <td>06/02/2021</td>\n",
       "      <td>...</td>\n",
       "      <td>Atendimento / SAC</td>\n",
       "      <td>Dificuldade de contato / acesso a outros canai...</td>\n",
       "      <td>Loja física</td>\n",
       "      <td>S</td>\n",
       "      <td>S</td>\n",
       "      <td>Finalizada avaliada</td>\n",
       "      <td>Resolvida</td>\n",
       "      <td>2.0</td>\n",
       "      <td>NaN</td>\n",
       "      <td>NaN</td>\n",
       "    </tr>\n",
       "    <tr>\n",
       "      <th>350821</th>\n",
       "      <td>Fundação de Proteção e Defesa do Consumidor</td>\n",
       "      <td>Plataforma Web</td>\n",
       "      <td>SE</td>\n",
       "      <td>SP</td>\n",
       "      <td>São Paulo</td>\n",
       "      <td>F</td>\n",
       "      <td>entre 51 a 60 anos</td>\n",
       "      <td>2021.0</td>\n",
       "      <td>2.0</td>\n",
       "      <td>22/02/2021</td>\n",
       "      <td>...</td>\n",
       "      <td>Vício de Qualidade</td>\n",
       "      <td>Portabilidade não efetivada</td>\n",
       "      <td>Loja física</td>\n",
       "      <td>N</td>\n",
       "      <td>S</td>\n",
       "      <td>Finalizada não avaliada</td>\n",
       "      <td>Não Avaliada</td>\n",
       "      <td>NaN</td>\n",
       "      <td>NaN</td>\n",
       "      <td>NaN</td>\n",
       "    </tr>\n",
       "  </tbody>\n",
       "</table>\n",
       "<p>10 rows × 31 columns</p>\n",
       "</div>"
      ],
      "text/plain": [
       "                                                   Gestor Canal de Origem  \\\n",
       "896541  Departamento Estadual de Proteção e Defesa do ...  Plataforma Web   \n",
       "689927                  Secretaria Nacional do Consumidor  Plataforma Web   \n",
       "836464  Secretaria de Estado da Justiça e Cidadania de...  Plataforma Web   \n",
       "648264        Fundação de Proteção e Defesa do Consumidor  Plataforma Web   \n",
       "481251        Fundação de Proteção e Defesa do Consumidor  Plataforma Web   \n",
       "181735  Departamento Estadual de Proteção e Defesa do ...  Plataforma Web   \n",
       "301217        Fundação de Proteção e Defesa do Consumidor  Plataforma Web   \n",
       "687331        Fundação de Proteção e Defesa do Consumidor  Plataforma Web   \n",
       "219888                  Secretaria Nacional do Consumidor  Plataforma Web   \n",
       "350821        Fundação de Proteção e Defesa do Consumidor  Plataforma Web   \n",
       "\n",
       "       Região  UF          Cidade Sexo        Faixa Etária  Ano Abertura  \\\n",
       "896541     S   PR        Curitiba    M  entre 31 a 40 anos        2021.0   \n",
       "689927     NE  MA  Paço do Lumiar    F  entre 41 a 50 anos        2021.0   \n",
       "836464     S   SC       Joinville    M  entre 51 a 60 anos        2021.0   \n",
       "648264     SE  SP       São Paulo    M  entre 21 a 30 anos        2021.0   \n",
       "481251     SE  SP        Capivari    M  entre 31 a 40 anos        2021.0   \n",
       "181735     S   PR  Ribeirão Claro    F  entre 21 a 30 anos        2021.0   \n",
       "301217     SE  SP         Boituva    F  entre 31 a 40 anos        2021.0   \n",
       "687331     SE  SP      Votorantim    F  entre 31 a 40 anos        2021.0   \n",
       "219888     NE  AL          Maceió    F  entre 31 a 40 anos        2021.0   \n",
       "350821     SE  SP       São Paulo    F  entre 51 a 60 anos        2021.0   \n",
       "\n",
       "        Mês Abertura Data Abertura  ...          Grupo Problema  \\\n",
       "896541           7.0    26/07/2021  ...  Cobrança / Contestação   \n",
       "689927           5.0    19/05/2021  ...  Cobrança / Contestação   \n",
       "836464           6.0    25/06/2021  ...       Contrato / Oferta   \n",
       "648264           5.0    02/05/2021  ...  Cobrança / Contestação   \n",
       "481251           4.0    04/04/2021  ...       Contrato / Oferta   \n",
       "181735           1.0    25/01/2021  ...       Atendimento / SAC   \n",
       "301217           2.0    03/02/2021  ...      Vício de Qualidade   \n",
       "687331           5.0    19/05/2021  ...  Cobrança / Contestação   \n",
       "219888           2.0    06/02/2021  ...       Atendimento / SAC   \n",
       "350821           2.0    22/02/2021  ...      Vício de Qualidade   \n",
       "\n",
       "                                                 Problema  \\\n",
       "896541  Cobrança indevida / abusiva para alterar ou ca...   \n",
       "689927  Cobrança por Irregularidade ou defeito na medição   \n",
       "836464  Não entrega do contrato ou documentação relaci...   \n",
       "648264  Cobrança submetendo a ofensa, constrangimento ...   \n",
       "481251  Dificuldade para contratar / recusa injustificada   \n",
       "181735  Má qualidade no atendimento (descortesia / des...   \n",
       "301217                         Falta de peça de reposição   \n",
       "687331  Cobrança em duplicidade / Cobrança referente a...   \n",
       "219888  Dificuldade de contato / acesso a outros canai...   \n",
       "350821                        Portabilidade não efetivada   \n",
       "\n",
       "         Como Comprou Contratou Procurou Empresa Respondida  \\\n",
       "896541                 Telefone                N          N   \n",
       "689927              Loja física                S          S   \n",
       "836464  Não comprei / contratei                S          N   \n",
       "648264              Loja física                S          S   \n",
       "481251  Não comprei / contratei                S          S   \n",
       "181735                 Internet                S          S   \n",
       "301217                 Internet                S          S   \n",
       "687331                 Telefone                S          S   \n",
       "219888              Loja física                S          S   \n",
       "350821              Loja física                N          S   \n",
       "\n",
       "                       Situação  Avaliação Reclamação Nota do Consumidor  \\\n",
       "896541                Cancelada                   NaN                NaN   \n",
       "689927  Finalizada não avaliada          Não Avaliada                NaN   \n",
       "836464                Cancelada                   NaN                NaN   \n",
       "648264  Finalizada não avaliada          Não Avaliada                NaN   \n",
       "481251      Finalizada avaliada         Não Resolvida                2.0   \n",
       "181735  Finalizada não avaliada          Não Avaliada                NaN   \n",
       "301217      Finalizada avaliada         Não Resolvida                1.0   \n",
       "687331      Finalizada avaliada             Resolvida                5.0   \n",
       "219888      Finalizada avaliada             Resolvida                2.0   \n",
       "350821  Finalizada não avaliada          Não Avaliada                NaN   \n",
       "\n",
       "       Análise da Recusa     Grupo Econômico  \n",
       "896541        Procedente                 NaN  \n",
       "689927               NaN  Equatorial Energia  \n",
       "836464        Procedente                 NaN  \n",
       "648264               NaN                 NaN  \n",
       "481251               NaN       Mercado Livre  \n",
       "181735               NaN                 NaN  \n",
       "301217               NaN                 NaN  \n",
       "687331               NaN                Vivo  \n",
       "219888               NaN                 NaN  \n",
       "350821               NaN                 NaN  \n",
       "\n",
       "[10 rows x 31 columns]"
      ]
     },
     "metadata": {},
     "execution_count": 42
    }
   ],
   "metadata": {}
  },
  {
   "cell_type": "code",
   "execution_count": 43,
   "source": [
    "df.columns"
   ],
   "outputs": [
    {
     "output_type": "execute_result",
     "data": {
      "text/plain": [
       "Index(['Gestor', 'Canal de Origem', 'Região', 'UF', 'Cidade', 'Sexo',\n",
       "       'Faixa Etária', 'Ano Abertura', 'Mês Abertura', 'Data Abertura',\n",
       "       'Data Resposta', 'Data Análise', 'Data Recusa', 'Data Finalização',\n",
       "       'Prazo Resposta', 'Prazo Analise Gestor', 'Tempo Resposta',\n",
       "       'Nome Fantasia', 'Segmento de Mercado', 'Área', 'Assunto',\n",
       "       'Grupo Problema', 'Problema', 'Como Comprou Contratou',\n",
       "       'Procurou Empresa', 'Respondida', 'Situação', 'Avaliação Reclamação',\n",
       "       'Nota do Consumidor', 'Análise da Recusa', 'Grupo Econômico'],\n",
       "      dtype='object')"
      ]
     },
     "metadata": {},
     "execution_count": 43
    }
   ],
   "metadata": {}
  },
  {
   "cell_type": "code",
   "execution_count": 44,
   "source": [
    "df.shape"
   ],
   "outputs": [
    {
     "output_type": "execute_result",
     "data": {
      "text/plain": [
       "(897662, 31)"
      ]
     },
     "metadata": {},
     "execution_count": 44
    }
   ],
   "metadata": {}
  },
  {
   "cell_type": "markdown",
   "source": [
    "## Seleção das linhas e colunas relevantes"
   ],
   "metadata": {}
  },
  {
   "cell_type": "code",
   "execution_count": 45,
   "source": [
    "# Selecionando a empresa alvo da análise\r\n",
    "\r\n",
    "df = df.loc[df['Nome Fantasia'] == 'Vivo - Telefônica']\r\n",
    "df.shape"
   ],
   "outputs": [
    {
     "output_type": "execute_result",
     "data": {
      "text/plain": [
       "(58278, 31)"
      ]
     },
     "metadata": {},
     "execution_count": 45
    }
   ],
   "metadata": {}
  },
  {
   "cell_type": "code",
   "execution_count": 46,
   "source": [
    "df = df.drop(columns=[\r\n",
    "    'Gestor','Região','Cidade','Ano Abertura','Data Análise','Data Recusa',\r\n",
    "    'Data Finalização','Prazo Resposta','Tempo Resposta','Grupo Econômico',\r\n",
    "    'Prazo Analise Gestor','Nome Fantasia','Segmento de Mercado',\r\n",
    "    'Procurou Empresa','Respondida'])\r\n",
    "df.shape"
   ],
   "outputs": [
    {
     "output_type": "execute_result",
     "data": {
      "text/plain": [
       "(58278, 16)"
      ]
     },
     "metadata": {},
     "execution_count": 46
    }
   ],
   "metadata": {}
  },
  {
   "cell_type": "code",
   "execution_count": 47,
   "source": [
    "df.info()"
   ],
   "outputs": [
    {
     "output_type": "stream",
     "name": "stdout",
     "text": [
      "<class 'pandas.core.frame.DataFrame'>\n",
      "Int64Index: 58278 entries, 30 to 897598\n",
      "Data columns (total 16 columns):\n",
      " #   Column                  Non-Null Count  Dtype  \n",
      "---  ------                  --------------  -----  \n",
      " 0   Canal de Origem         58278 non-null  object \n",
      " 1   UF                      58278 non-null  object \n",
      " 2   Sexo                    58274 non-null  object \n",
      " 3   Faixa Etária            58278 non-null  object \n",
      " 4   Mês Abertura            58278 non-null  float64\n",
      " 5   Data Abertura           58278 non-null  object \n",
      " 6   Data Resposta           51396 non-null  object \n",
      " 7   Área                    58278 non-null  object \n",
      " 8   Assunto                 58278 non-null  object \n",
      " 9   Grupo Problema          58278 non-null  object \n",
      " 10  Problema                58278 non-null  object \n",
      " 11  Como Comprou Contratou  58278 non-null  object \n",
      " 12  Situação                58278 non-null  object \n",
      " 13  Avaliação Reclamação    51387 non-null  object \n",
      " 14  Nota do Consumidor      31028 non-null  float64\n",
      " 15  Análise da Recusa       7848 non-null   object \n",
      "dtypes: float64(2), object(14)\n",
      "memory usage: 7.6+ MB\n"
     ]
    }
   ],
   "metadata": {}
  },
  {
   "cell_type": "code",
   "execution_count": 48,
   "source": [
    "# Será considerado apenas as reclamações abertas entre janeiro e junho\r\n",
    "# meses anteriores e posteriores ao período serão excluídos.\r\n",
    "\r\n",
    "print(df['Mês Abertura'].unique())\r\n",
    "\r\n",
    "df_remover = df.loc[\r\n",
    "    (df['Mês Abertura'] == 11) | \r\n",
    "    (df['Mês Abertura'] == 12) | \r\n",
    "    (df['Mês Abertura'] == 7)\r\n",
    "    ]\r\n",
    "\r\n",
    "df = df.drop(df_remover.index)\r\n",
    "\r\n",
    "print(df['Mês Abertura'].unique())"
   ],
   "outputs": [
    {
     "output_type": "stream",
     "name": "stdout",
     "text": [
      "[ 1. 11. 12.  2.  3.  4.  5.  6.  7.]\n",
      "[1. 2. 3. 4. 5. 6.]\n"
     ]
    }
   ],
   "metadata": {}
  },
  {
   "cell_type": "markdown",
   "source": [
    "## Tratando valores nulos"
   ],
   "metadata": {}
  },
  {
   "cell_type": "code",
   "execution_count": 49,
   "source": [
    "df.isnull().sum()"
   ],
   "outputs": [
    {
     "output_type": "execute_result",
     "data": {
      "text/plain": [
       "Canal de Origem               0\n",
       "UF                            0\n",
       "Sexo                          4\n",
       "Faixa Etária                  0\n",
       "Mês Abertura                  0\n",
       "Data Abertura                 0\n",
       "Data Resposta              6015\n",
       "Área                          0\n",
       "Assunto                       0\n",
       "Grupo Problema                0\n",
       "Problema                      0\n",
       "Como Comprou Contratou        0\n",
       "Situação                      0\n",
       "Avaliação Reclamação       6023\n",
       "Nota do Consumidor        23484\n",
       "Análise da Recusa         43220\n",
       "dtype: int64"
      ]
     },
     "metadata": {},
     "execution_count": 49
    }
   ],
   "metadata": {}
  },
  {
   "cell_type": "code",
   "execution_count": 50,
   "source": [
    "# Quando nulo será considerado \"O\" outros.\r\n",
    "\r\n",
    "print(df['Sexo'].unique())\r\n",
    "df['Sexo'].fillna('O', inplace=True)\r\n",
    "print(df['Sexo'].unique())\r\n",
    "df['Sexo'].isnull().sum()"
   ],
   "outputs": [
    {
     "output_type": "stream",
     "name": "stdout",
     "text": [
      "['M' 'F' 'O' nan]\n",
      "['M' 'F' 'O']\n"
     ]
    },
    {
     "output_type": "execute_result",
     "data": {
      "text/plain": [
       "0"
      ]
     },
     "metadata": {},
     "execution_count": 50
    }
   ],
   "metadata": {}
  },
  {
   "cell_type": "code",
   "execution_count": 51,
   "source": [
    "# Quando nulo é referente a reclamações canceladas por serem improcedentes \r\n",
    "# ou encerradas quando não avaliadas em tempo hábil pelo orgão gestor de reclamações.\r\n",
    "\r\n",
    "print(df['Data Resposta'].sample(10))\r\n",
    "df['Data Resposta'].isnull().count()"
   ],
   "outputs": [
    {
     "output_type": "stream",
     "name": "stdout",
     "text": [
      "15418     12/01/2021\n",
      "474054    08/04/2021\n",
      "142694    20/01/2021\n",
      "437093    29/03/2021\n",
      "195479    05/02/2021\n",
      "570207    06/05/2021\n",
      "314550    22/02/2021\n",
      "742953    14/06/2021\n",
      "500610    20/04/2021\n",
      "576373    30/04/2021\n",
      "Name: Data Resposta, dtype: object\n"
     ]
    },
    {
     "output_type": "execute_result",
     "data": {
      "text/plain": [
       "50062"
      ]
     },
     "metadata": {},
     "execution_count": 51
    }
   ],
   "metadata": {}
  },
  {
   "cell_type": "code",
   "execution_count": 52,
   "source": [
    "# Quando nulo as reclamações foram canceladas por serem improcedentes\r\n",
    "# ou encerradas quando não avaliadas em tempo hábil pelo orgão gestor de reclamações.\r\n",
    "# Quando nulo será considerado o valor correspondente da coluna 'Situação'.\r\n",
    "\r\n",
    "print(df['Avaliação Reclamação'].unique()) \r\n",
    "df.loc[df['Avaliação Reclamação'].isnull(), 'Avaliação Reclamação'] = df['Situação']\r\n",
    "print(df['Avaliação Reclamação'].unique()) \r\n",
    "df['Avaliação Reclamação'].isnull().sum()\r\n"
   ],
   "outputs": [
    {
     "output_type": "stream",
     "name": "stdout",
     "text": [
      "['Resolvida' nan 'Não Avaliada' 'Não Resolvida']\n",
      "['Resolvida' 'Cancelada' 'Não Avaliada' 'Não Resolvida' 'Encerrada']\n"
     ]
    },
    {
     "output_type": "execute_result",
     "data": {
      "text/plain": [
       "0"
      ]
     },
     "metadata": {},
     "execution_count": 52
    }
   ],
   "metadata": {}
  },
  {
   "cell_type": "code",
   "execution_count": 53,
   "source": [
    "# Quando nulo as reclamações foram canceladas por serem improcedentes\r\n",
    "# ou encerradas quando não avaliadas em tempo hábil pelo orgão gestor de reclamações.\r\n",
    "# Quando nulo será considerado 0 \"zero\".\r\n",
    "\r\n",
    "print(df['Nota do Consumidor'].unique())\r\n",
    "df['Nota do Consumidor'].fillna(0, inplace=True)\r\n",
    "print(df['Nota do Consumidor'].unique())\r\n",
    "df['Nota do Consumidor'].isnull().sum()"
   ],
   "outputs": [
    {
     "output_type": "stream",
     "name": "stdout",
     "text": [
      "[ 5. nan  4.  3.  1.  2.]\n",
      "[5. 0. 4. 3. 1. 2.]\n"
     ]
    },
    {
     "output_type": "execute_result",
     "data": {
      "text/plain": [
       "0"
      ]
     },
     "metadata": {},
     "execution_count": 53
    }
   ],
   "metadata": {}
  },
  {
   "cell_type": "code",
   "execution_count": 54,
   "source": [
    "# Quando nulo não houve recusa da reclamação pela empresa reclamada.\r\n",
    "\r\n",
    "print(df['Análise da Recusa'].unique())\r\n",
    "df['Análise da Recusa'].isnull().sum()"
   ],
   "outputs": [
    {
     "output_type": "stream",
     "name": "stdout",
     "text": [
      "[nan 'Procedente' 'Encerrada' 'Improcedente']\n"
     ]
    },
    {
     "output_type": "execute_result",
     "data": {
      "text/plain": [
       "43220"
      ]
     },
     "metadata": {},
     "execution_count": 54
    }
   ],
   "metadata": {}
  },
  {
   "cell_type": "markdown",
   "source": [
    "## Tratando os tipos de valores"
   ],
   "metadata": {}
  },
  {
   "cell_type": "code",
   "execution_count": 55,
   "source": [
    "df.dtypes"
   ],
   "outputs": [
    {
     "output_type": "execute_result",
     "data": {
      "text/plain": [
       "Canal de Origem            object\n",
       "UF                         object\n",
       "Sexo                       object\n",
       "Faixa Etária               object\n",
       "Mês Abertura              float64\n",
       "Data Abertura              object\n",
       "Data Resposta              object\n",
       "Área                       object\n",
       "Assunto                    object\n",
       "Grupo Problema             object\n",
       "Problema                   object\n",
       "Como Comprou Contratou     object\n",
       "Situação                   object\n",
       "Avaliação Reclamação       object\n",
       "Nota do Consumidor        float64\n",
       "Análise da Recusa          object\n",
       "dtype: object"
      ]
     },
     "metadata": {},
     "execution_count": 55
    }
   ],
   "metadata": {}
  },
  {
   "cell_type": "code",
   "execution_count": 56,
   "source": [
    "df['Mês Abertura'] = df['Mês Abertura'].astype('int8', errors='ignore')\r\n",
    "df['Data Abertura'] = pd.to_datetime(df['Data Abertura'], format='%d/%m/%Y')\r\n",
    "df['Data Resposta'] = pd.to_datetime(df['Data Resposta'], format='%d/%m/%Y')\r\n",
    "df['Nota do Consumidor'] = df['Nota do Consumidor'].astype('int8', errors='ignore')\r\n",
    "\r\n",
    "df.info()"
   ],
   "outputs": [
    {
     "output_type": "stream",
     "name": "stdout",
     "text": [
      "<class 'pandas.core.frame.DataFrame'>\n",
      "Int64Index: 50062 entries, 30 to 854051\n",
      "Data columns (total 16 columns):\n",
      " #   Column                  Non-Null Count  Dtype         \n",
      "---  ------                  --------------  -----         \n",
      " 0   Canal de Origem         50062 non-null  object        \n",
      " 1   UF                      50062 non-null  object        \n",
      " 2   Sexo                    50062 non-null  object        \n",
      " 3   Faixa Etária            50062 non-null  object        \n",
      " 4   Mês Abertura            50062 non-null  int8          \n",
      " 5   Data Abertura           50062 non-null  datetime64[ns]\n",
      " 6   Data Resposta           44047 non-null  datetime64[ns]\n",
      " 7   Área                    50062 non-null  object        \n",
      " 8   Assunto                 50062 non-null  object        \n",
      " 9   Grupo Problema          50062 non-null  object        \n",
      " 10  Problema                50062 non-null  object        \n",
      " 11  Como Comprou Contratou  50062 non-null  object        \n",
      " 12  Situação                50062 non-null  object        \n",
      " 13  Avaliação Reclamação    50062 non-null  object        \n",
      " 14  Nota do Consumidor      50062 non-null  int8          \n",
      " 15  Análise da Recusa       6842 non-null   object        \n",
      "dtypes: datetime64[ns](2), int8(2), object(12)\n",
      "memory usage: 6.8+ MB\n"
     ]
    }
   ],
   "metadata": {}
  },
  {
   "cell_type": "code",
   "execution_count": 57,
   "source": [
    "df.count()"
   ],
   "outputs": [
    {
     "output_type": "execute_result",
     "data": {
      "text/plain": [
       "Canal de Origem           50062\n",
       "UF                        50062\n",
       "Sexo                      50062\n",
       "Faixa Etária              50062\n",
       "Mês Abertura              50062\n",
       "Data Abertura             50062\n",
       "Data Resposta             44047\n",
       "Área                      50062\n",
       "Assunto                   50062\n",
       "Grupo Problema            50062\n",
       "Problema                  50062\n",
       "Como Comprou Contratou    50062\n",
       "Situação                  50062\n",
       "Avaliação Reclamação      50062\n",
       "Nota do Consumidor        50062\n",
       "Análise da Recusa          6842\n",
       "dtype: int64"
      ]
     },
     "metadata": {},
     "execution_count": 57
    }
   ],
   "metadata": {}
  },
  {
   "cell_type": "markdown",
   "source": [
    "## 1. Qual o número de reclamações por estado?"
   ],
   "metadata": {}
  },
  {
   "cell_type": "code",
   "execution_count": 102,
   "source": [
    "df_uf_valores = df['UF'].value_counts()\r\n",
    "df_uf_perc = pd.DataFrame(df_uf_valores)\r\n",
    "\r\n",
    "soma_uf_valores = df_uf_valores.sum()\r\n",
    "\r\n",
    "# calcular porcentagens\r\n",
    "df_uf_perc['%'] = df_uf_perc['UF'] / soma_uf_valores * 100\r\n",
    "\r\n",
    "print(df_uf_perc)\r\n",
    "\r\n",
    "plt.figure(figsize = (20, 10))\r\n",
    "sns.barplot(x = df_uf_perc.index, y = df_uf_perc['%'], orient = \"v\", palette = \"plasma\")\r\n",
    "plt.xlabel('\\nEstados', fontsize = 15)\r\n",
    "plt.ylabel('\\nPercentual\\n', fontsize = 15)\r\n",
    "plt.title('\\nPercentual de reclamações por Estado\\n', fontsize = 20)\r\n",
    "plt.show()"
   ],
   "outputs": [
    {
     "output_type": "stream",
     "name": "stdout",
     "text": [
      "       UF          %\n",
      "SP  12695  25.358555\n",
      "RS  10821  21.615197\n",
      "MG   4871   9.729935\n",
      "PR   4226   8.441532\n",
      "RJ   2735   5.463226\n",
      "ES   2237   4.468459\n",
      "BA   2030   4.054972\n",
      "DF   1779   3.553594\n",
      "SC   1767   3.529623\n",
      "GO   1480   2.956334\n",
      "MT    978   1.953578\n",
      "PE    774   1.546083\n",
      "CE    617   1.232472\n",
      "AM    457   0.912868\n",
      "PB    393   0.785027\n",
      "MA    388   0.775039\n",
      "MS    381   0.761056\n",
      "PA    328   0.655188\n",
      "SE    266   0.531341\n",
      "PI    227   0.453438\n",
      "AC    141   0.281651\n",
      "AL    116   0.231713\n",
      "RO     97   0.193760\n",
      "RN     94   0.187767\n",
      "TO     91   0.181775\n",
      "AP     42   0.083896\n",
      "RR     31   0.061923\n"
     ]
    },
    {
     "output_type": "display_data",
     "data": {
      "image/png": "[encoded data removed]",
      "text/plain": [
       "<Figure size 1440x720 with 1 Axes>"
      ]
     },
     "metadata": {
      "needs_background": "light"
     }
    }
   ],
   "metadata": {}
  },
  {
   "cell_type": "markdown",
   "source": [
    "## 2. Qual o número de reclamações por sexo?"
   ],
   "metadata": {}
  },
  {
   "cell_type": "code",
   "execution_count": 104,
   "source": [
    "df_sexo_valores = df['Sexo'].value_counts()\r\n",
    "df_sexo_perc = pd.DataFrame(df_sexo_valores)\r\n",
    "\r\n",
    "soma_sexo_valores = df_sexo_valores.sum()\r\n",
    "\r\n",
    "# calcular porcentagens\r\n",
    "df_sexo_perc['%'] = df_sexo_perc['Sexo'] / soma_sexo_valores * 100\r\n",
    "\r\n",
    "print(df_sexo_perc)\r\n",
    "\r\n",
    "kkk=df['Sexo'].unique()\r\n",
    "\r\n",
    "print(kkk)\r\n",
    "legend = plt.legend(kkk)\r\n",
    "\r\n",
    "plt.figure(figsize = (20, 10))\r\n",
    "sns.barplot(x = df_sexo_perc.index, y = df_sexo_perc['%'], orient = \"v\", palette = \"plasma\", hue=legend)\r\n",
    "plt.ylabel('\\nPercentual\\n', fontsize = 15)\r\n",
    "plt.title('\\nPercentual de reclamações por Sexo\\n', fontsize = 20)\r\n",
    "\r\n",
    "plt.show()"
   ],
   "outputs": [
    {
     "output_type": "stream",
     "name": "stdout",
     "text": [
      "    Sexo          %\n",
      "M  28178  56.286205\n",
      "F  21854  43.653869\n",
      "O     30   0.059926\n",
      "['M' 'F' 'O']\n"
     ]
    },
    {
     "output_type": "error",
     "ename": "TypeError",
     "evalue": "'Legend' object is not iterable",
     "traceback": [
      "\u001b[1;31m---------------------------------------------------------------------------\u001b[0m",
      "\u001b[1;31mAttributeError\u001b[0m                            Traceback (most recent call last)",
      "\u001b[1;32mC:\\Python\\Python39\\lib\\site-packages\\seaborn\\_core.py\u001b[0m in \u001b[0;36mcategorical_order\u001b[1;34m(vector, order)\u001b[0m\n\u001b[0;32m   1471\u001b[0m             \u001b[1;32mtry\u001b[0m\u001b[1;33m:\u001b[0m\u001b[1;33m\u001b[0m\u001b[1;33m\u001b[0m\u001b[0m\n\u001b[1;32m-> 1472\u001b[1;33m                 \u001b[0morder\u001b[0m \u001b[1;33m=\u001b[0m \u001b[0mvector\u001b[0m\u001b[1;33m.\u001b[0m\u001b[0mcat\u001b[0m\u001b[1;33m.\u001b[0m\u001b[0mcategories\u001b[0m\u001b[1;33m\u001b[0m\u001b[1;33m\u001b[0m\u001b[0m\n\u001b[0m\u001b[0;32m   1473\u001b[0m             \u001b[1;32mexcept\u001b[0m \u001b[1;33m(\u001b[0m\u001b[0mTypeError\u001b[0m\u001b[1;33m,\u001b[0m \u001b[0mAttributeError\u001b[0m\u001b[1;33m)\u001b[0m\u001b[1;33m:\u001b[0m\u001b[1;33m\u001b[0m\u001b[1;33m\u001b[0m\u001b[0m\n",
      "\u001b[1;31mAttributeError\u001b[0m: 'Legend' object has no attribute 'cat'",
      "\nDuring handling of the above exception, another exception occurred:\n",
      "\u001b[1;31mAttributeError\u001b[0m                            Traceback (most recent call last)",
      "\u001b[1;32mC:\\Python\\Python39\\lib\\site-packages\\seaborn\\_core.py\u001b[0m in \u001b[0;36mcategorical_order\u001b[1;34m(vector, order)\u001b[0m\n\u001b[0;32m   1475\u001b[0m                 \u001b[1;32mtry\u001b[0m\u001b[1;33m:\u001b[0m\u001b[1;33m\u001b[0m\u001b[1;33m\u001b[0m\u001b[0m\n\u001b[1;32m-> 1476\u001b[1;33m                     \u001b[0morder\u001b[0m \u001b[1;33m=\u001b[0m \u001b[0mvector\u001b[0m\u001b[1;33m.\u001b[0m\u001b[0munique\u001b[0m\u001b[1;33m(\u001b[0m\u001b[1;33m)\u001b[0m\u001b[1;33m\u001b[0m\u001b[1;33m\u001b[0m\u001b[0m\n\u001b[0m\u001b[0;32m   1477\u001b[0m                 \u001b[1;32mexcept\u001b[0m \u001b[0mAttributeError\u001b[0m\u001b[1;33m:\u001b[0m\u001b[1;33m\u001b[0m\u001b[1;33m\u001b[0m\u001b[0m\n",
      "\u001b[1;31mAttributeError\u001b[0m: 'Legend' object has no attribute 'unique'",
      "\nDuring handling of the above exception, another exception occurred:\n",
      "\u001b[1;31mTypeError\u001b[0m                                 Traceback (most recent call last)",
      "\u001b[1;32m<ipython-input-104-9ca0eaca5d59>\u001b[0m in \u001b[0;36m<module>\u001b[1;34m\u001b[0m\n\u001b[0;32m     15\u001b[0m \u001b[1;33m\u001b[0m\u001b[0m\n\u001b[0;32m     16\u001b[0m \u001b[0mplt\u001b[0m\u001b[1;33m.\u001b[0m\u001b[0mfigure\u001b[0m\u001b[1;33m(\u001b[0m\u001b[0mfigsize\u001b[0m \u001b[1;33m=\u001b[0m \u001b[1;33m(\u001b[0m\u001b[1;36m20\u001b[0m\u001b[1;33m,\u001b[0m \u001b[1;36m10\u001b[0m\u001b[1;33m)\u001b[0m\u001b[1;33m)\u001b[0m\u001b[1;33m\u001b[0m\u001b[1;33m\u001b[0m\u001b[0m\n\u001b[1;32m---> 17\u001b[1;33m \u001b[0msns\u001b[0m\u001b[1;33m.\u001b[0m\u001b[0mbarplot\u001b[0m\u001b[1;33m(\u001b[0m\u001b[0mx\u001b[0m \u001b[1;33m=\u001b[0m \u001b[0mdf_sexo_perc\u001b[0m\u001b[1;33m.\u001b[0m\u001b[0mindex\u001b[0m\u001b[1;33m,\u001b[0m \u001b[0my\u001b[0m \u001b[1;33m=\u001b[0m \u001b[0mdf_sexo_perc\u001b[0m\u001b[1;33m[\u001b[0m\u001b[1;34m'%'\u001b[0m\u001b[1;33m]\u001b[0m\u001b[1;33m,\u001b[0m \u001b[0morient\u001b[0m \u001b[1;33m=\u001b[0m \u001b[1;34m\"v\"\u001b[0m\u001b[1;33m,\u001b[0m \u001b[0mpalette\u001b[0m \u001b[1;33m=\u001b[0m \u001b[1;34m\"plasma\"\u001b[0m\u001b[1;33m,\u001b[0m \u001b[0mhue\u001b[0m\u001b[1;33m=\u001b[0m\u001b[0mlegend\u001b[0m\u001b[1;33m)\u001b[0m\u001b[1;33m\u001b[0m\u001b[1;33m\u001b[0m\u001b[0m\n\u001b[0m\u001b[0;32m     18\u001b[0m \u001b[0mplt\u001b[0m\u001b[1;33m.\u001b[0m\u001b[0mylabel\u001b[0m\u001b[1;33m(\u001b[0m\u001b[1;34m'\\nPercentual\\n'\u001b[0m\u001b[1;33m,\u001b[0m \u001b[0mfontsize\u001b[0m \u001b[1;33m=\u001b[0m \u001b[1;36m15\u001b[0m\u001b[1;33m)\u001b[0m\u001b[1;33m\u001b[0m\u001b[1;33m\u001b[0m\u001b[0m\n\u001b[0;32m     19\u001b[0m \u001b[0mplt\u001b[0m\u001b[1;33m.\u001b[0m\u001b[0mtitle\u001b[0m\u001b[1;33m(\u001b[0m\u001b[1;34m'\\nPercentual de reclamações por Sexo\\n'\u001b[0m\u001b[1;33m,\u001b[0m \u001b[0mfontsize\u001b[0m \u001b[1;33m=\u001b[0m \u001b[1;36m20\u001b[0m\u001b[1;33m)\u001b[0m\u001b[1;33m\u001b[0m\u001b[1;33m\u001b[0m\u001b[0m\n",
      "\u001b[1;32mC:\\Python\\Python39\\lib\\site-packages\\seaborn\\_decorators.py\u001b[0m in \u001b[0;36minner_f\u001b[1;34m(*args, **kwargs)\u001b[0m\n\u001b[0;32m     44\u001b[0m             )\n\u001b[0;32m     45\u001b[0m         \u001b[0mkwargs\u001b[0m\u001b[1;33m.\u001b[0m\u001b[0mupdate\u001b[0m\u001b[1;33m(\u001b[0m\u001b[1;33m{\u001b[0m\u001b[0mk\u001b[0m\u001b[1;33m:\u001b[0m \u001b[0marg\u001b[0m \u001b[1;32mfor\u001b[0m \u001b[0mk\u001b[0m\u001b[1;33m,\u001b[0m \u001b[0marg\u001b[0m \u001b[1;32min\u001b[0m \u001b[0mzip\u001b[0m\u001b[1;33m(\u001b[0m\u001b[0msig\u001b[0m\u001b[1;33m.\u001b[0m\u001b[0mparameters\u001b[0m\u001b[1;33m,\u001b[0m \u001b[0margs\u001b[0m\u001b[1;33m)\u001b[0m\u001b[1;33m}\u001b[0m\u001b[1;33m)\u001b[0m\u001b[1;33m\u001b[0m\u001b[1;33m\u001b[0m\u001b[0m\n\u001b[1;32m---> 46\u001b[1;33m         \u001b[1;32mreturn\u001b[0m \u001b[0mf\u001b[0m\u001b[1;33m(\u001b[0m\u001b[1;33m**\u001b[0m\u001b[0mkwargs\u001b[0m\u001b[1;33m)\u001b[0m\u001b[1;33m\u001b[0m\u001b[1;33m\u001b[0m\u001b[0m\n\u001b[0m\u001b[0;32m     47\u001b[0m     \u001b[1;32mreturn\u001b[0m \u001b[0minner_f\u001b[0m\u001b[1;33m\u001b[0m\u001b[1;33m\u001b[0m\u001b[0m\n\u001b[0;32m     48\u001b[0m \u001b[1;33m\u001b[0m\u001b[0m\n",
      "\u001b[1;32mC:\\Python\\Python39\\lib\\site-packages\\seaborn\\categorical.py\u001b[0m in \u001b[0;36mbarplot\u001b[1;34m(x, y, hue, data, order, hue_order, estimator, ci, n_boot, units, seed, orient, color, palette, saturation, errcolor, errwidth, capsize, dodge, ax, **kwargs)\u001b[0m\n\u001b[0;32m   3177\u001b[0m ):\n\u001b[0;32m   3178\u001b[0m \u001b[1;33m\u001b[0m\u001b[0m\n\u001b[1;32m-> 3179\u001b[1;33m     plotter = _BarPlotter(x, y, hue, data, order, hue_order,\n\u001b[0m\u001b[0;32m   3180\u001b[0m                           \u001b[0mestimator\u001b[0m\u001b[1;33m,\u001b[0m \u001b[0mci\u001b[0m\u001b[1;33m,\u001b[0m \u001b[0mn_boot\u001b[0m\u001b[1;33m,\u001b[0m \u001b[0munits\u001b[0m\u001b[1;33m,\u001b[0m \u001b[0mseed\u001b[0m\u001b[1;33m,\u001b[0m\u001b[1;33m\u001b[0m\u001b[1;33m\u001b[0m\u001b[0m\n\u001b[0;32m   3181\u001b[0m                           \u001b[0morient\u001b[0m\u001b[1;33m,\u001b[0m \u001b[0mcolor\u001b[0m\u001b[1;33m,\u001b[0m \u001b[0mpalette\u001b[0m\u001b[1;33m,\u001b[0m \u001b[0msaturation\u001b[0m\u001b[1;33m,\u001b[0m\u001b[1;33m\u001b[0m\u001b[1;33m\u001b[0m\u001b[0m\n",
      "\u001b[1;32mC:\\Python\\Python39\\lib\\site-packages\\seaborn\\categorical.py\u001b[0m in \u001b[0;36m__init__\u001b[1;34m(self, x, y, hue, data, order, hue_order, estimator, ci, n_boot, units, seed, orient, color, palette, saturation, errcolor, errwidth, capsize, dodge)\u001b[0m\n\u001b[0;32m   1582\u001b[0m                  errwidth, capsize, dodge):\n\u001b[0;32m   1583\u001b[0m         \u001b[1;34m\"\"\"Initialize the plotter.\"\"\"\u001b[0m\u001b[1;33m\u001b[0m\u001b[1;33m\u001b[0m\u001b[0m\n\u001b[1;32m-> 1584\u001b[1;33m         self.establish_variables(x, y, hue, data, orient,\n\u001b[0m\u001b[0;32m   1585\u001b[0m                                  order, hue_order, units)\n\u001b[0;32m   1586\u001b[0m         \u001b[0mself\u001b[0m\u001b[1;33m.\u001b[0m\u001b[0mestablish_colors\u001b[0m\u001b[1;33m(\u001b[0m\u001b[0mcolor\u001b[0m\u001b[1;33m,\u001b[0m \u001b[0mpalette\u001b[0m\u001b[1;33m,\u001b[0m \u001b[0msaturation\u001b[0m\u001b[1;33m)\u001b[0m\u001b[1;33m\u001b[0m\u001b[1;33m\u001b[0m\u001b[0m\n",
      "\u001b[1;32mC:\\Python\\Python39\\lib\\site-packages\\seaborn\\categorical.py\u001b[0m in \u001b[0;36mestablish_variables\u001b[1;34m(self, x, y, hue, data, orient, order, hue_order, units)\u001b[0m\n\u001b[0;32m    215\u001b[0m \u001b[1;33m\u001b[0m\u001b[0m\n\u001b[0;32m    216\u001b[0m                     \u001b[1;31m# Get the order of the hue levels\u001b[0m\u001b[1;33m\u001b[0m\u001b[1;33m\u001b[0m\u001b[1;33m\u001b[0m\u001b[0m\n\u001b[1;32m--> 217\u001b[1;33m                     \u001b[0mhue_names\u001b[0m \u001b[1;33m=\u001b[0m \u001b[0mcategorical_order\u001b[0m\u001b[1;33m(\u001b[0m\u001b[0mhue\u001b[0m\u001b[1;33m,\u001b[0m \u001b[0mhue_order\u001b[0m\u001b[1;33m)\u001b[0m\u001b[1;33m\u001b[0m\u001b[1;33m\u001b[0m\u001b[0m\n\u001b[0m\u001b[0;32m    218\u001b[0m \u001b[1;33m\u001b[0m\u001b[0m\n\u001b[0;32m    219\u001b[0m                     \u001b[1;31m# Group the hue data\u001b[0m\u001b[1;33m\u001b[0m\u001b[1;33m\u001b[0m\u001b[1;33m\u001b[0m\u001b[0m\n",
      "\u001b[1;32mC:\\Python\\Python39\\lib\\site-packages\\seaborn\\_core.py\u001b[0m in \u001b[0;36mcategorical_order\u001b[1;34m(vector, order)\u001b[0m\n\u001b[0;32m   1476\u001b[0m                     \u001b[0morder\u001b[0m \u001b[1;33m=\u001b[0m \u001b[0mvector\u001b[0m\u001b[1;33m.\u001b[0m\u001b[0munique\u001b[0m\u001b[1;33m(\u001b[0m\u001b[1;33m)\u001b[0m\u001b[1;33m\u001b[0m\u001b[1;33m\u001b[0m\u001b[0m\n\u001b[0;32m   1477\u001b[0m                 \u001b[1;32mexcept\u001b[0m \u001b[0mAttributeError\u001b[0m\u001b[1;33m:\u001b[0m\u001b[1;33m\u001b[0m\u001b[1;33m\u001b[0m\u001b[0m\n\u001b[1;32m-> 1478\u001b[1;33m                     \u001b[0morder\u001b[0m \u001b[1;33m=\u001b[0m \u001b[0mpd\u001b[0m\u001b[1;33m.\u001b[0m\u001b[0munique\u001b[0m\u001b[1;33m(\u001b[0m\u001b[0mvector\u001b[0m\u001b[1;33m)\u001b[0m\u001b[1;33m\u001b[0m\u001b[1;33m\u001b[0m\u001b[0m\n\u001b[0m\u001b[0;32m   1479\u001b[0m \u001b[1;33m\u001b[0m\u001b[0m\n\u001b[0;32m   1480\u001b[0m                 \u001b[1;32mif\u001b[0m \u001b[0mvariable_type\u001b[0m\u001b[1;33m(\u001b[0m\u001b[0mvector\u001b[0m\u001b[1;33m)\u001b[0m \u001b[1;33m==\u001b[0m \u001b[1;34m\"numeric\"\u001b[0m\u001b[1;33m:\u001b[0m\u001b[1;33m\u001b[0m\u001b[1;33m\u001b[0m\u001b[0m\n",
      "\u001b[1;32mC:\\Python\\Python39\\lib\\site-packages\\pandas\\core\\algorithms.py\u001b[0m in \u001b[0;36munique\u001b[1;34m(values)\u001b[0m\n\u001b[0;32m    395\u001b[0m     \u001b[0marray\u001b[0m\u001b[1;33m(\u001b[0m\u001b[1;33m[\u001b[0m\u001b[1;33m(\u001b[0m\u001b[1;34m'a'\u001b[0m\u001b[1;33m,\u001b[0m \u001b[1;34m'b'\u001b[0m\u001b[1;33m)\u001b[0m\u001b[1;33m,\u001b[0m \u001b[1;33m(\u001b[0m\u001b[1;34m'b'\u001b[0m\u001b[1;33m,\u001b[0m \u001b[1;34m'a'\u001b[0m\u001b[1;33m)\u001b[0m\u001b[1;33m,\u001b[0m \u001b[1;33m(\u001b[0m\u001b[1;34m'a'\u001b[0m\u001b[1;33m,\u001b[0m \u001b[1;34m'c'\u001b[0m\u001b[1;33m)\u001b[0m\u001b[1;33m]\u001b[0m\u001b[1;33m,\u001b[0m \u001b[0mdtype\u001b[0m\u001b[1;33m=\u001b[0m\u001b[0mobject\u001b[0m\u001b[1;33m)\u001b[0m\u001b[1;33m\u001b[0m\u001b[1;33m\u001b[0m\u001b[0m\n\u001b[0;32m    396\u001b[0m     \"\"\"\n\u001b[1;32m--> 397\u001b[1;33m     \u001b[0mvalues\u001b[0m \u001b[1;33m=\u001b[0m \u001b[0m_ensure_arraylike\u001b[0m\u001b[1;33m(\u001b[0m\u001b[0mvalues\u001b[0m\u001b[1;33m)\u001b[0m\u001b[1;33m\u001b[0m\u001b[1;33m\u001b[0m\u001b[0m\n\u001b[0m\u001b[0;32m    398\u001b[0m \u001b[1;33m\u001b[0m\u001b[0m\n\u001b[0;32m    399\u001b[0m     \u001b[1;32mif\u001b[0m \u001b[0mis_extension_array_dtype\u001b[0m\u001b[1;33m(\u001b[0m\u001b[0mvalues\u001b[0m\u001b[1;33m)\u001b[0m\u001b[1;33m:\u001b[0m\u001b[1;33m\u001b[0m\u001b[1;33m\u001b[0m\u001b[0m\n",
      "\u001b[1;32mC:\\Python\\Python39\\lib\\site-packages\\pandas\\core\\algorithms.py\u001b[0m in \u001b[0;36m_ensure_arraylike\u001b[1;34m(values)\u001b[0m\n\u001b[0;32m    234\u001b[0m     \"\"\"\n\u001b[0;32m    235\u001b[0m     \u001b[1;32mif\u001b[0m \u001b[1;32mnot\u001b[0m \u001b[0mis_array_like\u001b[0m\u001b[1;33m(\u001b[0m\u001b[0mvalues\u001b[0m\u001b[1;33m)\u001b[0m\u001b[1;33m:\u001b[0m\u001b[1;33m\u001b[0m\u001b[1;33m\u001b[0m\u001b[0m\n\u001b[1;32m--> 236\u001b[1;33m         \u001b[0minferred\u001b[0m \u001b[1;33m=\u001b[0m \u001b[0mlib\u001b[0m\u001b[1;33m.\u001b[0m\u001b[0minfer_dtype\u001b[0m\u001b[1;33m(\u001b[0m\u001b[0mvalues\u001b[0m\u001b[1;33m,\u001b[0m \u001b[0mskipna\u001b[0m\u001b[1;33m=\u001b[0m\u001b[1;32mFalse\u001b[0m\u001b[1;33m)\u001b[0m\u001b[1;33m\u001b[0m\u001b[1;33m\u001b[0m\u001b[0m\n\u001b[0m\u001b[0;32m    237\u001b[0m         \u001b[1;32mif\u001b[0m \u001b[0minferred\u001b[0m \u001b[1;32min\u001b[0m \u001b[1;33m[\u001b[0m\u001b[1;34m\"mixed\"\u001b[0m\u001b[1;33m,\u001b[0m \u001b[1;34m\"string\"\u001b[0m\u001b[1;33m,\u001b[0m \u001b[1;34m\"mixed-integer\"\u001b[0m\u001b[1;33m]\u001b[0m\u001b[1;33m:\u001b[0m\u001b[1;33m\u001b[0m\u001b[1;33m\u001b[0m\u001b[0m\n\u001b[0;32m    238\u001b[0m             \u001b[1;31m# \"mixed-integer\" to ensure we do not cast [\"ss\", 42] to str GH#22160\u001b[0m\u001b[1;33m\u001b[0m\u001b[1;33m\u001b[0m\u001b[1;33m\u001b[0m\u001b[0m\n",
      "\u001b[1;32mpandas\\_libs\\lib.pyx\u001b[0m in \u001b[0;36mpandas._libs.lib.infer_dtype\u001b[1;34m()\u001b[0m\n",
      "\u001b[1;31mTypeError\u001b[0m: 'Legend' object is not iterable"
     ]
    },
    {
     "output_type": "display_data",
     "data": {
      "image/png": "[encoded data removed]",
      "text/plain": [
       "<Figure size 432x288 with 1 Axes>"
      ]
     },
     "metadata": {
      "needs_background": "light"
     }
    },
    {
     "output_type": "display_data",
     "data": {
      "text/plain": [
       "<Figure size 1440x720 with 0 Axes>"
      ]
     },
     "metadata": {}
    }
   ],
   "metadata": {}
  },
  {
   "cell_type": "markdown",
   "source": [
    "## 3. Qual o número de reclamações por faixa etária?"
   ],
   "metadata": {}
  },
  {
   "cell_type": "code",
   "execution_count": null,
   "source": [],
   "outputs": [],
   "metadata": {}
  }
 ],
 "metadata": {
  "interpreter": {
   "hash": "ee5cc6fef2d70a7e71ee3826687cbd150f18158e0b1eef11d4f4f92bb920e304"
  },
  "kernelspec": {
   "name": "python3",
   "display_name": "Python 3.9.0 64-bit"
  },
  "language_info": {
   "codemirror_mode": {
    "name": "ipython",
    "version": 3
   },
   "file_extension": ".py",
   "mimetype": "text/x-python",
   "name": "python",
   "nbconvert_exporter": "python",
   "pygments_lexer": "ipython3",
   "version": "3.9.0"
  }
 },
 "nbformat": 4,
 "nbformat_minor": 4
}